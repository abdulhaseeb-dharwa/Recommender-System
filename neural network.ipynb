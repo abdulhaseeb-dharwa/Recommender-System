{
 "cells": [
  {
   "cell_type": "code",
   "execution_count": 2,
   "metadata": {},
   "outputs": [
    {
     "name": "stderr",
     "output_type": "stream",
     "text": [
      "c:\\Users\\Abdul Haseeb\\Desktop\\Recommender system\\Recommender-System\\.venv\\lib\\site-packages\\tqdm\\auto.py:21: TqdmWarning: IProgress not found. Please update jupyter and ipywidgets. See https://ipywidgets.readthedocs.io/en/stable/user_install.html\n",
      "  from .autonotebook import tqdm as notebook_tqdm\n"
     ]
    },
    {
     "name": "stdout",
     "output_type": "stream",
     "text": [
      "Downloading from https://www.kaggle.com/api/v1/datasets/download/satrapankti/amazon-beauty-product-recommendation?dataset_version_number=1...\n"
     ]
    },
    {
     "name": "stderr",
     "output_type": "stream",
     "text": [
      "100%|██████████| 26.3M/26.3M [00:35<00:00, 781kB/s] "
     ]
    },
    {
     "name": "stdout",
     "output_type": "stream",
     "text": [
      "Extracting files...\n"
     ]
    },
    {
     "name": "stderr",
     "output_type": "stream",
     "text": [
      "\n"
     ]
    },
    {
     "name": "stdout",
     "output_type": "stream",
     "text": [
      "Path to dataset files: C:\\Users\\Abdul Haseeb\\.cache\\kagglehub\\datasets\\satrapankti\\amazon-beauty-product-recommendation\\versions\\1\n"
     ]
    }
   ],
   "source": [
    "import kagglehub\n",
    "\n",
    "# Download latest version\n",
    "path = kagglehub.dataset_download(\"satrapankti/amazon-beauty-product-recommendation\")\n",
    "\n",
    "print(\"Path to dataset files:\", path)"
   ]
  },
  {
   "cell_type": "code",
   "execution_count": null,
   "metadata": {},
   "outputs": [
    {
     "name": "stdout",
     "output_type": "stream",
     "text": [
      "           UserId   ProductId       ProductType  Rating   Timestamp  \\\n",
      "0  A3NHUQ33CFH3VM  B00LLPT4HI  Eyeliner & Kajal       5  1405814400   \n",
      "1  A1TIRNQ7O4REOH  B00LLPT4HI  Eyeliner & Kajal       4  1405987200   \n",
      "2  A2Y36BR4YSY9F7  B00LLPT4HI  Eyeliner & Kajal       5  1405728000   \n",
      "3  A23H6FAOLEMAKC  B00LLPT4HI  Eyeliner & Kajal       5  1405814400   \n",
      "4  A3CHYZGF3OO6WD  B00LLPT4HI  Eyeliner & Kajal       5  1405641600   \n",
      "\n",
      "                                                 URL  \n",
      "0  https://www.amazon.in/Maybelline-Colossal-Kaja...  \n",
      "1  https://www.amazon.in/Maybelline-Colossal-Kaja...  \n",
      "2  https://www.amazon.in/Maybelline-Colossal-Kaja...  \n",
      "3  https://www.amazon.in/Maybelline-Colossal-Kaja...  \n",
      "4  https://www.amazon.in/Maybelline-Colossal-Kaja...  \n"
     ]
    }
   ],
   "source": [
    "#reading the csv file\n",
    "import pandas as pd\n",
    "data = pd.read_csv('Amazon_Beauty_Recommendation.csv')\n",
    "print(data.head())"
   ]
  },
  {
   "cell_type": "code",
   "execution_count": 2,
   "metadata": {},
   "outputs": [
    {
     "name": "stdout",
     "output_type": "stream",
     "text": [
      "Dataset Info:\n",
      "<class 'pandas.core.frame.DataFrame'>\n",
      "RangeIndex: 1348246 entries, 0 to 1348245\n",
      "Data columns (total 6 columns):\n",
      " #   Column       Non-Null Count    Dtype \n",
      "---  ------       --------------    ----- \n",
      " 0   UserId       1348246 non-null  object\n",
      " 1   ProductId    1348246 non-null  object\n",
      " 2   ProductType  1348246 non-null  object\n",
      " 3   Rating       1348246 non-null  int64 \n",
      " 4   Timestamp    1348246 non-null  int64 \n",
      " 5   URL          1348246 non-null  object\n",
      "dtypes: int64(2), object(4)\n",
      "memory usage: 61.7+ MB\n",
      "None\n",
      "Prepared data saved to prepared_data.csv\n"
     ]
    }
   ],
   "source": [
    "#data preprocessing\n",
    "from sklearn.preprocessing import LabelEncoder\n",
    "from sklearn.model_selection import train_test_split\n",
    "\n",
    "# Display basic info about the dataset\n",
    "print(\"Dataset Info:\")\n",
    "print(data.info())\n",
    "\n",
    "# Handle missing values (if any)\n",
    "data = data.dropna()\n",
    "\n",
    "# Remove duplicates (if any)\n",
    "data = data.drop_duplicates()\n",
    "\n",
    "# Encode UserId and ProductId into numeric format\n",
    "user_encoder = LabelEncoder()\n",
    "product_encoder = LabelEncoder()\n",
    "\n",
    "data['UserId'] = user_encoder.fit_transform(data['UserId'])\n",
    "data['ProductId'] = product_encoder.fit_transform(data['ProductId'])\n",
    "\n",
    "# Feature and Target\n",
    "features = data[['UserId', 'ProductId', 'Rating', 'Timestamp']]\n",
    "target = data['Rating']\n",
    "\n",
    "# Normalizing Timestamp (improves model performance)\n",
    "features = features.copy()\n",
    "features['Timestamp'] = (features['Timestamp'] - features['Timestamp'].min()) / (features['Timestamp'].max() - features['Timestamp'].min())\n",
    "\n",
    "prepared_data_path = 'prepared_data.csv'\n",
    "features.to_csv(prepared_data_path, index=False)\n",
    "print(f\"Prepared data saved to {prepared_data_path}\")"
   ]
  },
  {
   "cell_type": "code",
   "execution_count": null,
   "metadata": {},
   "outputs": [],
   "source": []
  }
 ],
 "metadata": {
  "kernelspec": {
   "display_name": ".venv",
   "language": "python",
   "name": "python3"
  },
  "language_info": {
   "codemirror_mode": {
    "name": "ipython",
    "version": 3
   },
   "file_extension": ".py",
   "mimetype": "text/x-python",
   "name": "python",
   "nbconvert_exporter": "python",
   "pygments_lexer": "ipython3",
   "version": "3.10.11"
  }
 },
 "nbformat": 4,
 "nbformat_minor": 2
}
