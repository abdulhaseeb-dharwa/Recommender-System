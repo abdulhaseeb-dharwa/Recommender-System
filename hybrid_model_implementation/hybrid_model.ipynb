{
 "cells": [
  {
   "cell_type": "code",
   "execution_count": 1,
   "metadata": {},
   "outputs": [
    {
     "name": "stdout",
     "output_type": "stream",
     "text": [
      "           UserId   ProductId       ProductType  Rating   Timestamp  \\\n",
      "0  A3NHUQ33CFH3VM  B00LLPT4HI  Eyeliner & Kajal       5  1405814400   \n",
      "1  A1TIRNQ7O4REOH  B00LLPT4HI  Eyeliner & Kajal       4  1405987200   \n",
      "2  A2Y36BR4YSY9F7  B00LLPT4HI  Eyeliner & Kajal       5  1405728000   \n",
      "3  A23H6FAOLEMAKC  B00LLPT4HI  Eyeliner & Kajal       5  1405814400   \n",
      "4  A3CHYZGF3OO6WD  B00LLPT4HI  Eyeliner & Kajal       5  1405641600   \n",
      "\n",
      "                                                 URL  \n",
      "0  https://www.amazon.in/Maybelline-Colossal-Kaja...  \n",
      "1  https://www.amazon.in/Maybelline-Colossal-Kaja...  \n",
      "2  https://www.amazon.in/Maybelline-Colossal-Kaja...  \n",
      "3  https://www.amazon.in/Maybelline-Colossal-Kaja...  \n",
      "4  https://www.amazon.in/Maybelline-Colossal-Kaja...  \n"
     ]
    }
   ],
   "source": [
    "#reading the csv file\n",
    "import pandas as pd\n",
    "data = pd.read_csv(r'C:\\Users\\Abdul Haseeb\\Desktop\\Recommender system\\Recommender-System\\Amazon_Beauty_Recommendation.csv')\n",
    "print(data.head())"
   ]
  },
  {
   "cell_type": "code",
   "execution_count": 7,
   "metadata": {},
   "outputs": [
    {
     "name": "stdout",
     "output_type": "stream",
     "text": [
      "Product Features Prepared:\n",
      "     ProductId       ProductType  ProductTypeEncoded\n",
      "0   B00LLPT4HI  Eyeliner & Kajal                   7\n",
      "27  B00LCEROA2  Eyeliner & Kajal                   7\n",
      "50  B00LAOMUUS  Eyeliner & Kajal                   7\n",
      "66  B00L6Q3BH6  Eyeliner & Kajal                   7\n",
      "85  B00L5JHZJO  Eyeliner & Kajal                   7\n"
     ]
    }
   ],
   "source": [
    "# Extract product features for content-based filtering\n",
    "product_features = data[['ProductId', 'ProductType']].drop_duplicates()\n",
    "\n",
    "# Encode ProductType as numerical features\n",
    "from sklearn.preprocessing import LabelEncoder\n",
    "encoder = LabelEncoder()\n",
    "product_features['ProductTypeEncoded'] = encoder.fit_transform(product_features['ProductType'])\n",
    "\n",
    "print(\"Product Features Prepared:\")\n",
    "print(product_features.head())\n"
   ]
  },
  {
   "cell_type": "code",
   "execution_count": 9,
   "metadata": {},
   "outputs": [
    {
     "name": "stdout",
     "output_type": "stream",
     "text": [
      "Sparse User-Item Interaction Matrix Shape: (883753, 23838)\n",
      "Number of Users: 883753\n",
      "Number of Products: 23838\n"
     ]
    }
   ],
   "source": [
    "from scipy.sparse import coo_matrix\n",
    "\n",
    "# Extract required columns\n",
    "rows = data['UserId'].astype('category').cat.codes\n",
    "cols = data['ProductId'].astype('category').cat.codes\n",
    "ratings = data['Rating'].values\n",
    "\n",
    "# Create a sparse matrix\n",
    "interaction_matrix_sparse = coo_matrix((ratings, (rows, cols)))\n",
    "\n",
    "print(\"Sparse User-Item Interaction Matrix Shape:\", interaction_matrix_sparse.shape)\n",
    "\n",
    "# Create mappings for UserId and ProductId\n",
    "user_mapping = dict(enumerate(data['UserId'].astype('category').cat.categories))\n",
    "product_mapping = dict(enumerate(data['ProductId'].astype('category').cat.categories))\n",
    "\n",
    "print(\"Number of Users:\", len(user_mapping))\n",
    "print(\"Number of Products:\", len(product_mapping))\n"
   ]
  },
  {
   "cell_type": "code",
   "execution_count": 10,
   "metadata": {},
   "outputs": [
    {
     "ename": "MemoryError",
     "evalue": "Unable to allocate 157. GiB for an array with shape (883753, 23838) and data type int64",
     "output_type": "error",
     "traceback": [
      "\u001b[1;31m---------------------------------------------------------------------------\u001b[0m",
      "\u001b[1;31mMemoryError\u001b[0m                               Traceback (most recent call last)",
      "Cell \u001b[1;32mIn[10], line 5\u001b[0m\n\u001b[0;32m      2\u001b[0m \u001b[38;5;28;01mimport\u001b[39;00m \u001b[38;5;21;01mnumpy\u001b[39;00m \u001b[38;5;28;01mas\u001b[39;00m \u001b[38;5;21;01mnp\u001b[39;00m\n\u001b[0;32m      4\u001b[0m \u001b[38;5;66;03m# Decompose the sparse matrix using SVD\u001b[39;00m\n\u001b[1;32m----> 5\u001b[0m interaction_matrix \u001b[38;5;241m=\u001b[39m \u001b[43minteraction_matrix_sparse\u001b[49m\u001b[38;5;241;43m.\u001b[39;49m\u001b[43mtoarray\u001b[49m\u001b[43m(\u001b[49m\u001b[43m)\u001b[49m\n\u001b[0;32m      6\u001b[0m user_ratings_mean \u001b[38;5;241m=\u001b[39m np\u001b[38;5;241m.\u001b[39mmean(interaction_matrix, axis\u001b[38;5;241m=\u001b[39m\u001b[38;5;241m1\u001b[39m)\n\u001b[0;32m      7\u001b[0m interaction_matrix_normalized \u001b[38;5;241m=\u001b[39m interaction_matrix \u001b[38;5;241m-\u001b[39m user_ratings_mean\u001b[38;5;241m.\u001b[39mreshape(\u001b[38;5;241m-\u001b[39m\u001b[38;5;241m1\u001b[39m, \u001b[38;5;241m1\u001b[39m)\n",
      "File \u001b[1;32mc:\\Users\\Abdul Haseeb\\Desktop\\Recommender system\\Recommender-System\\.venv\\lib\\site-packages\\scipy\\sparse\\_coo.py:269\u001b[0m, in \u001b[0;36m_coo_base.toarray\u001b[1;34m(self, order, out)\u001b[0m\n\u001b[0;32m    268\u001b[0m \u001b[38;5;28;01mdef\u001b[39;00m \u001b[38;5;21mtoarray\u001b[39m(\u001b[38;5;28mself\u001b[39m, order\u001b[38;5;241m=\u001b[39m\u001b[38;5;28;01mNone\u001b[39;00m, out\u001b[38;5;241m=\u001b[39m\u001b[38;5;28;01mNone\u001b[39;00m):\n\u001b[1;32m--> 269\u001b[0m     B \u001b[38;5;241m=\u001b[39m \u001b[38;5;28;43mself\u001b[39;49m\u001b[38;5;241;43m.\u001b[39;49m\u001b[43m_process_toarray_args\u001b[49m\u001b[43m(\u001b[49m\u001b[43morder\u001b[49m\u001b[43m,\u001b[49m\u001b[43m \u001b[49m\u001b[43mout\u001b[49m\u001b[43m)\u001b[49m\n\u001b[0;32m    270\u001b[0m     fortran \u001b[38;5;241m=\u001b[39m \u001b[38;5;28mint\u001b[39m(B\u001b[38;5;241m.\u001b[39mflags\u001b[38;5;241m.\u001b[39mf_contiguous)\n\u001b[0;32m    271\u001b[0m     \u001b[38;5;28;01mif\u001b[39;00m \u001b[38;5;129;01mnot\u001b[39;00m fortran \u001b[38;5;129;01mand\u001b[39;00m \u001b[38;5;129;01mnot\u001b[39;00m B\u001b[38;5;241m.\u001b[39mflags\u001b[38;5;241m.\u001b[39mc_contiguous:\n",
      "File \u001b[1;32mc:\\Users\\Abdul Haseeb\\Desktop\\Recommender system\\Recommender-System\\.venv\\lib\\site-packages\\scipy\\sparse\\_base.py:1301\u001b[0m, in \u001b[0;36m_spbase._process_toarray_args\u001b[1;34m(self, order, out)\u001b[0m\n\u001b[0;32m   1299\u001b[0m     \u001b[38;5;28;01mreturn\u001b[39;00m out\n\u001b[0;32m   1300\u001b[0m \u001b[38;5;28;01melse\u001b[39;00m:\n\u001b[1;32m-> 1301\u001b[0m     \u001b[38;5;28;01mreturn\u001b[39;00m \u001b[43mnp\u001b[49m\u001b[38;5;241;43m.\u001b[39;49m\u001b[43mzeros\u001b[49m\u001b[43m(\u001b[49m\u001b[38;5;28;43mself\u001b[39;49m\u001b[38;5;241;43m.\u001b[39;49m\u001b[43mshape\u001b[49m\u001b[43m,\u001b[49m\u001b[43m \u001b[49m\u001b[43mdtype\u001b[49m\u001b[38;5;241;43m=\u001b[39;49m\u001b[38;5;28;43mself\u001b[39;49m\u001b[38;5;241;43m.\u001b[39;49m\u001b[43mdtype\u001b[49m\u001b[43m,\u001b[49m\u001b[43m \u001b[49m\u001b[43morder\u001b[49m\u001b[38;5;241;43m=\u001b[39;49m\u001b[43morder\u001b[49m\u001b[43m)\u001b[49m\n",
      "\u001b[1;31mMemoryError\u001b[0m: Unable to allocate 157. GiB for an array with shape (883753, 23838) and data type int64"
     ]
    }
   ],
   "source": [
    "from scipy.sparse.linalg import svds\n",
    "import numpy as np\n",
    "\n",
    "# Decompose the sparse matrix using SVD\n",
    "interaction_matrix = interaction_matrix_sparse.toarray()\n",
    "user_ratings_mean = np.mean(interaction_matrix, axis=1)\n",
    "interaction_matrix_normalized = interaction_matrix - user_ratings_mean.reshape(-1, 1)\n",
    "\n",
    "# Compute SVD\n",
    "U, sigma, Vt = svds(interaction_matrix_normalized, k=50)  # Adjust k as needed\n",
    "sigma = np.diag(sigma)\n",
    "\n",
    "# Reconstruct the ratings matrix\n",
    "predicted_ratings = np.dot(np.dot(U, sigma), Vt) + user_ratings_mean.reshape(-1, 1)\n",
    "print(\"Predicted Ratings Matrix Shape:\", predicted_ratings.shape)\n",
    "\n",
    "# Function to recommend products\n",
    "def recommend_products_cf(user_id, user_mapping, product_mapping, num_recommendations=10):\n",
    "    user_idx = list(user_mapping.keys())[list(user_mapping.values()).index(user_id)]\n",
    "    sorted_ratings = np.argsort(predicted_ratings[user_idx])[::-1]\n",
    "    \n",
    "    recommendations = [\n",
    "        {\n",
    "            \"ProductId\": product_mapping[prod_idx],\n",
    "            \"Predicted_Rating\": predicted_ratings[user_idx, prod_idx],\n",
    "        }\n",
    "        for prod_idx in sorted_ratings[:num_recommendations]\n",
    "    ]\n",
    "    return recommendations\n",
    "\n",
    "# Example recommendation\n",
    "user_id = list(user_mapping.values())[0]\n",
    "cf_recommendations = recommend_products_cf(user_id, user_mapping, product_mapping)\n",
    "print(f\"Collaborative Filtering Recommendations for User {user_id}:\")\n",
    "for rec in cf_recommendations:\n",
    "    print(rec)\n"
   ]
  }
 ],
 "metadata": {
  "kernelspec": {
   "display_name": ".venv",
   "language": "python",
   "name": "python3"
  },
  "language_info": {
   "codemirror_mode": {
    "name": "ipython",
    "version": 3
   },
   "file_extension": ".py",
   "mimetype": "text/x-python",
   "name": "python",
   "nbconvert_exporter": "python",
   "pygments_lexer": "ipython3",
   "version": "3.10.11"
  }
 },
 "nbformat": 4,
 "nbformat_minor": 2
}
