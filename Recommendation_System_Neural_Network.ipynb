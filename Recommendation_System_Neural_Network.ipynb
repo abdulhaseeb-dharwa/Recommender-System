{
  "nbformat": 4,
  "nbformat_minor": 0,
  "metadata": {
    "colab": {
      "provenance": [],
      "gpuType": "T4",
      "mount_file_id": "1am-JxmX9hLA5rclDQRJLq1lKkW_zPFct",
      "authorship_tag": "ABX9TyNPDYKrVuMt+4wAenpvsx5o",
      "include_colab_link": true
    },
    "kernelspec": {
      "name": "python3",
      "display_name": "Python 3"
    },
    "language_info": {
      "name": "python"
    },
    "accelerator": "GPU"
  },
  "cells": [
    {
      "cell_type": "markdown",
      "metadata": {
        "id": "view-in-github",
        "colab_type": "text"
      },
      "source": [
        "<a href=\"https://colab.research.google.com/github/abdulhaseeb-dharwa/Recommender-System/blob/main/Recommendation_System_Neural_Network.ipynb\" target=\"_parent\"><img src=\"https://colab.research.google.com/assets/colab-badge.svg\" alt=\"Open In Colab\"/></a>"
      ]
    },
    {
      "cell_type": "code",
      "execution_count": 1,
      "metadata": {
        "colab": {
          "base_uri": "https://localhost:8080/"
        },
        "id": "K0iQd2R23dz6",
        "outputId": "f7aab1ef-25c9-4865-e4a9-b0f05fe6f2cf"
      },
      "outputs": [
        {
          "output_type": "stream",
          "name": "stdout",
          "text": [
            "Downloading from https://www.kaggle.com/api/v1/datasets/download/satrapankti/amazon-beauty-product-recommendation?dataset_version_number=1...\n"
          ]
        },
        {
          "output_type": "stream",
          "name": "stderr",
          "text": [
            "100%|██████████| 26.3M/26.3M [00:02<00:00, 12.0MB/s]"
          ]
        },
        {
          "output_type": "stream",
          "name": "stdout",
          "text": [
            "Extracting files...\n"
          ]
        },
        {
          "output_type": "stream",
          "name": "stderr",
          "text": [
            "\n"
          ]
        },
        {
          "output_type": "stream",
          "name": "stdout",
          "text": [
            "Path to dataset files: /root/.cache/kagglehub/datasets/satrapankti/amazon-beauty-product-recommendation/versions/1\n"
          ]
        }
      ],
      "source": [
        "import kagglehub\n",
        "\n",
        "# Download latest version\n",
        "path = kagglehub.dataset_download(\"satrapankti/amazon-beauty-product-recommendation\")\n",
        "\n",
        "print(\"Path to dataset files:\", path)"
      ]
    },
    {
      "cell_type": "code",
      "source": [
        "import pandas as pd\n",
        "data = pd.read_csv('/root/.cache/kagglehub/datasets/satrapankti/amazon-beauty-product-recommendation/versions/1/Amazon_Beauty_Recommendation.csv')\n",
        "print(data.head())"
      ],
      "metadata": {
        "colab": {
          "base_uri": "https://localhost:8080/"
        },
        "id": "BEPHTv_V_N5_",
        "outputId": "3ce8047b-ba8e-46b8-9fc3-e30dc494b327"
      },
      "execution_count": 2,
      "outputs": [
        {
          "output_type": "stream",
          "name": "stdout",
          "text": [
            "           UserId   ProductId       ProductType  Rating   Timestamp  \\\n",
            "0  A3NHUQ33CFH3VM  B00LLPT4HI  Eyeliner & Kajal       5  1405814400   \n",
            "1  A1TIRNQ7O4REOH  B00LLPT4HI  Eyeliner & Kajal       4  1405987200   \n",
            "2  A2Y36BR4YSY9F7  B00LLPT4HI  Eyeliner & Kajal       5  1405728000   \n",
            "3  A23H6FAOLEMAKC  B00LLPT4HI  Eyeliner & Kajal       5  1405814400   \n",
            "4  A3CHYZGF3OO6WD  B00LLPT4HI  Eyeliner & Kajal       5  1405641600   \n",
            "\n",
            "                                                 URL  \n",
            "0  https://www.amazon.in/Maybelline-Colossal-Kaja...  \n",
            "1  https://www.amazon.in/Maybelline-Colossal-Kaja...  \n",
            "2  https://www.amazon.in/Maybelline-Colossal-Kaja...  \n",
            "3  https://www.amazon.in/Maybelline-Colossal-Kaja...  \n",
            "4  https://www.amazon.in/Maybelline-Colossal-Kaja...  \n"
          ]
        }
      ]
    },
    {
      "cell_type": "code",
      "source": [
        "from sklearn.preprocessing import LabelEncoder\n",
        "from sklearn.model_selection import train_test_split\n",
        "\n",
        "# Display basic info about the dataset\n",
        "print(\"Dataset Info:\")\n",
        "print(data.info())\n",
        "\n",
        "# Handle missing values (if any)\n",
        "data = data.dropna()\n",
        "\n",
        "# Remove duplicates (if any)\n",
        "data = data.drop_duplicates()\n",
        "\n",
        "# Encode UserId and ProductId into numeric format\n",
        "user_encoder = LabelEncoder()\n",
        "product_encoder = LabelEncoder()\n",
        "\n",
        "data['UserId'] = user_encoder.fit_transform(data['UserId'])\n",
        "data['ProductId'] = product_encoder.fit_transform(data['ProductId'])\n",
        "\n",
        "# Feature and Target\n",
        "features = data[['UserId', 'ProductId', 'Rating', 'Timestamp']]\n",
        "target = data['Rating']  # Assuming Rating is the target\n",
        "\n",
        "# Normalizing Timestamp (optional, improves model performance)\n",
        "features = features.copy()\n",
        "features['Timestamp'] = (features['Timestamp'] - features['Timestamp'].min()) / (features['Timestamp'].max() - features['Timestamp'].min())\n",
        "\n",
        "# Save the prepared data\n",
        "prepared_data_path = 'prepared_data.csv'\n",
        "features.to_csv(prepared_data_path, index=False)\n",
        "print(f\"Prepared data saved to {prepared_data_path}\")\n"
      ],
      "metadata": {
        "colab": {
          "base_uri": "https://localhost:8080/"
        },
        "id": "f9y31ElMepFQ",
        "outputId": "bbe0cc83-53af-4b10-b47a-252f537fe008"
      },
      "execution_count": 3,
      "outputs": [
        {
          "output_type": "stream",
          "name": "stdout",
          "text": [
            "Dataset Info:\n",
            "<class 'pandas.core.frame.DataFrame'>\n",
            "RangeIndex: 1348246 entries, 0 to 1348245\n",
            "Data columns (total 6 columns):\n",
            " #   Column       Non-Null Count    Dtype \n",
            "---  ------       --------------    ----- \n",
            " 0   UserId       1348246 non-null  object\n",
            " 1   ProductId    1348246 non-null  object\n",
            " 2   ProductType  1348246 non-null  object\n",
            " 3   Rating       1348246 non-null  int64 \n",
            " 4   Timestamp    1348246 non-null  int64 \n",
            " 5   URL          1348246 non-null  object\n",
            "dtypes: int64(2), object(4)\n",
            "memory usage: 61.7+ MB\n",
            "None\n",
            "Prepared data saved to prepared_data.csv\n"
          ]
        }
      ]
    },
    {
      "cell_type": "code",
      "source": [
        "# Split the data into training and testing sets\n",
        "X = features[['UserId', 'ProductId', 'Timestamp']]\n",
        "y = features['Rating']\n",
        "\n",
        "X_train, X_test, y_train, y_test = train_test_split(X, y, test_size=0.2, random_state=42)\n",
        "\n",
        "# Display the shapes of the splits\n",
        "print(f\"Training Features Shape: {X_train.shape}\")\n",
        "print(f\"Testing Features Shape: {X_test.shape}\")\n",
        "print(f\"Training Target Shape: {y_train.shape}\")\n",
        "print(f\"Testing Target Shape: {y_test.shape}\")\n",
        "\n",
        "# Save the splits for later use\n",
        "X_train.to_csv('X_train.csv', index=False)\n",
        "X_test.to_csv('X_test.csv', index=False)\n",
        "y_train.to_csv('y_train.csv', index=False)\n",
        "y_test.to_csv('y_test.csv', index=False)\n",
        "\n",
        "print(\"Training and testing splits saved as CSV files.\")"
      ],
      "metadata": {
        "colab": {
          "base_uri": "https://localhost:8080/"
        },
        "id": "uNG-uPNOgSrt",
        "outputId": "259d246d-f669-4be6-a33c-d255cddcc243"
      },
      "execution_count": 4,
      "outputs": [
        {
          "output_type": "stream",
          "name": "stdout",
          "text": [
            "Training Features Shape: (1078596, 3)\n",
            "Testing Features Shape: (269650, 3)\n",
            "Training Target Shape: (1078596,)\n",
            "Testing Target Shape: (269650,)\n",
            "Training and testing splits saved as CSV files.\n"
          ]
        }
      ]
    },
    {
      "cell_type": "code",
      "source": [
        "import tensorflow as tf\n",
        "from tensorflow.keras.models import Model\n",
        "from tensorflow.keras.layers import Input, Embedding, Flatten, Dense, Concatenate, Dropout\n",
        "\n",
        "# Define the number of unique users and products\n",
        "num_users = X_train['UserId'].nunique()\n",
        "num_products = X_train['ProductId'].nunique()\n",
        "\n",
        "# Embedding size (hyperparameter you can tune)\n",
        "embedding_size = 50\n",
        "\n",
        "# Input layers\n",
        "user_input = Input(shape=(1,), name='User_Input')\n",
        "product_input = Input(shape=(1,), name='Product_Input')\n",
        "\n",
        "# Embedding layers\n",
        "user_embedding = Embedding(input_dim=num_users, output_dim=embedding_size, name='User_Embedding')(user_input)\n",
        "product_embedding = Embedding(input_dim=num_products, output_dim=embedding_size, name='Product_Embedding')(product_input)\n",
        "\n",
        "# Flatten the embeddings\n",
        "user_vec = Flatten(name='Flatten_User')(user_embedding)\n",
        "product_vec = Flatten(name='Flatten_Product')(product_embedding)\n",
        "\n",
        "# Concatenate user and product vectors\n",
        "concat = Concatenate(name='Concatenate')([user_vec, product_vec])\n",
        "\n",
        "# Add dense layers (fully connected layers)\n",
        "dense_1 = Dense(128, activation='relu', name='Dense_Layer_1')(concat)\n",
        "dropout_1 = Dropout(0.3, name='Dropout_1')(dense_1)  # Dropout to prevent overfitting\n",
        "dense_2 = Dense(64, activation='relu', name='Dense_Layer_2')(dropout_1)\n",
        "\n",
        "# Output layer (rating prediction)\n",
        "output = Dense(1, activation='linear', name='Output')(dense_2)\n",
        "\n",
        "# Define the model\n",
        "model = Model(inputs=[user_input, product_input], outputs=output)\n",
        "\n",
        "# Compile the model\n",
        "model.compile(optimizer='adam', loss='mean_squared_error', metrics=['mean_absolute_error'])\n",
        "\n",
        "# Model summary\n",
        "model.summary()\n"
      ],
      "metadata": {
        "colab": {
          "base_uri": "https://localhost:8080/",
          "height": 565
        },
        "id": "MgxcPrKgg7vy",
        "outputId": "21fc585c-b917-40f9-83f3-dd9a828020e6"
      },
      "execution_count": 5,
      "outputs": [
        {
          "output_type": "display_data",
          "data": {
            "text/plain": [
              "\u001b[1mModel: \"functional\"\u001b[0m\n"
            ],
            "text/html": [
              "<pre style=\"white-space:pre;overflow-x:auto;line-height:normal;font-family:Menlo,'DejaVu Sans Mono',consolas,'Courier New',monospace\"><span style=\"font-weight: bold\">Model: \"functional\"</span>\n",
              "</pre>\n"
            ]
          },
          "metadata": {}
        },
        {
          "output_type": "display_data",
          "data": {
            "text/plain": [
              "┏━━━━━━━━━━━━━━━━━━━━━━━━━━━┳━━━━━━━━━━━━━━━━━━━━━━━━┳━━━━━━━━━━━━━━━━┳━━━━━━━━━━━━━━━━━━━━━━━━┓\n",
              "┃\u001b[1m \u001b[0m\u001b[1mLayer (type)             \u001b[0m\u001b[1m \u001b[0m┃\u001b[1m \u001b[0m\u001b[1mOutput Shape          \u001b[0m\u001b[1m \u001b[0m┃\u001b[1m \u001b[0m\u001b[1m       Param #\u001b[0m\u001b[1m \u001b[0m┃\u001b[1m \u001b[0m\u001b[1mConnected to          \u001b[0m\u001b[1m \u001b[0m┃\n",
              "┡━━━━━━━━━━━━━━━━━━━━━━━━━━━╇━━━━━━━━━━━━━━━━━━━━━━━━╇━━━━━━━━━━━━━━━━╇━━━━━━━━━━━━━━━━━━━━━━━━┩\n",
              "│ User_Input (\u001b[38;5;33mInputLayer\u001b[0m)   │ (\u001b[38;5;45mNone\u001b[0m, \u001b[38;5;34m1\u001b[0m)              │              \u001b[38;5;34m0\u001b[0m │ -                      │\n",
              "├───────────────────────────┼────────────────────────┼────────────────┼────────────────────────┤\n",
              "│ Product_Input             │ (\u001b[38;5;45mNone\u001b[0m, \u001b[38;5;34m1\u001b[0m)              │              \u001b[38;5;34m0\u001b[0m │ -                      │\n",
              "│ (\u001b[38;5;33mInputLayer\u001b[0m)              │                        │                │                        │\n",
              "├───────────────────────────┼────────────────────────┼────────────────┼────────────────────────┤\n",
              "│ User_Embedding            │ (\u001b[38;5;45mNone\u001b[0m, \u001b[38;5;34m1\u001b[0m, \u001b[38;5;34m50\u001b[0m)          │     \u001b[38;5;34m37,112,550\u001b[0m │ User_Input[\u001b[38;5;34m0\u001b[0m][\u001b[38;5;34m0\u001b[0m]       │\n",
              "│ (\u001b[38;5;33mEmbedding\u001b[0m)               │                        │                │                        │\n",
              "├───────────────────────────┼────────────────────────┼────────────────┼────────────────────────┤\n",
              "│ Product_Embedding         │ (\u001b[38;5;45mNone\u001b[0m, \u001b[38;5;34m1\u001b[0m, \u001b[38;5;34m50\u001b[0m)          │      \u001b[38;5;34m1,191,900\u001b[0m │ Product_Input[\u001b[38;5;34m0\u001b[0m][\u001b[38;5;34m0\u001b[0m]    │\n",
              "│ (\u001b[38;5;33mEmbedding\u001b[0m)               │                        │                │                        │\n",
              "├───────────────────────────┼────────────────────────┼────────────────┼────────────────────────┤\n",
              "│ Flatten_User (\u001b[38;5;33mFlatten\u001b[0m)    │ (\u001b[38;5;45mNone\u001b[0m, \u001b[38;5;34m50\u001b[0m)             │              \u001b[38;5;34m0\u001b[0m │ User_Embedding[\u001b[38;5;34m0\u001b[0m][\u001b[38;5;34m0\u001b[0m]   │\n",
              "├───────────────────────────┼────────────────────────┼────────────────┼────────────────────────┤\n",
              "│ Flatten_Product (\u001b[38;5;33mFlatten\u001b[0m) │ (\u001b[38;5;45mNone\u001b[0m, \u001b[38;5;34m50\u001b[0m)             │              \u001b[38;5;34m0\u001b[0m │ Product_Embedding[\u001b[38;5;34m0\u001b[0m][\u001b[38;5;34m…\u001b[0m │\n",
              "├───────────────────────────┼────────────────────────┼────────────────┼────────────────────────┤\n",
              "│ Concatenate (\u001b[38;5;33mConcatenate\u001b[0m) │ (\u001b[38;5;45mNone\u001b[0m, \u001b[38;5;34m100\u001b[0m)            │              \u001b[38;5;34m0\u001b[0m │ Flatten_User[\u001b[38;5;34m0\u001b[0m][\u001b[38;5;34m0\u001b[0m],    │\n",
              "│                           │                        │                │ Flatten_Product[\u001b[38;5;34m0\u001b[0m][\u001b[38;5;34m0\u001b[0m]  │\n",
              "├───────────────────────────┼────────────────────────┼────────────────┼────────────────────────┤\n",
              "│ Dense_Layer_1 (\u001b[38;5;33mDense\u001b[0m)     │ (\u001b[38;5;45mNone\u001b[0m, \u001b[38;5;34m128\u001b[0m)            │         \u001b[38;5;34m12,928\u001b[0m │ Concatenate[\u001b[38;5;34m0\u001b[0m][\u001b[38;5;34m0\u001b[0m]      │\n",
              "├───────────────────────────┼────────────────────────┼────────────────┼────────────────────────┤\n",
              "│ Dropout_1 (\u001b[38;5;33mDropout\u001b[0m)       │ (\u001b[38;5;45mNone\u001b[0m, \u001b[38;5;34m128\u001b[0m)            │              \u001b[38;5;34m0\u001b[0m │ Dense_Layer_1[\u001b[38;5;34m0\u001b[0m][\u001b[38;5;34m0\u001b[0m]    │\n",
              "├───────────────────────────┼────────────────────────┼────────────────┼────────────────────────┤\n",
              "│ Dense_Layer_2 (\u001b[38;5;33mDense\u001b[0m)     │ (\u001b[38;5;45mNone\u001b[0m, \u001b[38;5;34m64\u001b[0m)             │          \u001b[38;5;34m8,256\u001b[0m │ Dropout_1[\u001b[38;5;34m0\u001b[0m][\u001b[38;5;34m0\u001b[0m]        │\n",
              "├───────────────────────────┼────────────────────────┼────────────────┼────────────────────────┤\n",
              "│ Output (\u001b[38;5;33mDense\u001b[0m)            │ (\u001b[38;5;45mNone\u001b[0m, \u001b[38;5;34m1\u001b[0m)              │             \u001b[38;5;34m65\u001b[0m │ Dense_Layer_2[\u001b[38;5;34m0\u001b[0m][\u001b[38;5;34m0\u001b[0m]    │\n",
              "└───────────────────────────┴────────────────────────┴────────────────┴────────────────────────┘\n"
            ],
            "text/html": [
              "<pre style=\"white-space:pre;overflow-x:auto;line-height:normal;font-family:Menlo,'DejaVu Sans Mono',consolas,'Courier New',monospace\">┏━━━━━━━━━━━━━━━━━━━━━━━━━━━┳━━━━━━━━━━━━━━━━━━━━━━━━┳━━━━━━━━━━━━━━━━┳━━━━━━━━━━━━━━━━━━━━━━━━┓\n",
              "┃<span style=\"font-weight: bold\"> Layer (type)              </span>┃<span style=\"font-weight: bold\"> Output Shape           </span>┃<span style=\"font-weight: bold\">        Param # </span>┃<span style=\"font-weight: bold\"> Connected to           </span>┃\n",
              "┡━━━━━━━━━━━━━━━━━━━━━━━━━━━╇━━━━━━━━━━━━━━━━━━━━━━━━╇━━━━━━━━━━━━━━━━╇━━━━━━━━━━━━━━━━━━━━━━━━┩\n",
              "│ User_Input (<span style=\"color: #0087ff; text-decoration-color: #0087ff\">InputLayer</span>)   │ (<span style=\"color: #00d7ff; text-decoration-color: #00d7ff\">None</span>, <span style=\"color: #00af00; text-decoration-color: #00af00\">1</span>)              │              <span style=\"color: #00af00; text-decoration-color: #00af00\">0</span> │ -                      │\n",
              "├───────────────────────────┼────────────────────────┼────────────────┼────────────────────────┤\n",
              "│ Product_Input             │ (<span style=\"color: #00d7ff; text-decoration-color: #00d7ff\">None</span>, <span style=\"color: #00af00; text-decoration-color: #00af00\">1</span>)              │              <span style=\"color: #00af00; text-decoration-color: #00af00\">0</span> │ -                      │\n",
              "│ (<span style=\"color: #0087ff; text-decoration-color: #0087ff\">InputLayer</span>)              │                        │                │                        │\n",
              "├───────────────────────────┼────────────────────────┼────────────────┼────────────────────────┤\n",
              "│ User_Embedding            │ (<span style=\"color: #00d7ff; text-decoration-color: #00d7ff\">None</span>, <span style=\"color: #00af00; text-decoration-color: #00af00\">1</span>, <span style=\"color: #00af00; text-decoration-color: #00af00\">50</span>)          │     <span style=\"color: #00af00; text-decoration-color: #00af00\">37,112,550</span> │ User_Input[<span style=\"color: #00af00; text-decoration-color: #00af00\">0</span>][<span style=\"color: #00af00; text-decoration-color: #00af00\">0</span>]       │\n",
              "│ (<span style=\"color: #0087ff; text-decoration-color: #0087ff\">Embedding</span>)               │                        │                │                        │\n",
              "├───────────────────────────┼────────────────────────┼────────────────┼────────────────────────┤\n",
              "│ Product_Embedding         │ (<span style=\"color: #00d7ff; text-decoration-color: #00d7ff\">None</span>, <span style=\"color: #00af00; text-decoration-color: #00af00\">1</span>, <span style=\"color: #00af00; text-decoration-color: #00af00\">50</span>)          │      <span style=\"color: #00af00; text-decoration-color: #00af00\">1,191,900</span> │ Product_Input[<span style=\"color: #00af00; text-decoration-color: #00af00\">0</span>][<span style=\"color: #00af00; text-decoration-color: #00af00\">0</span>]    │\n",
              "│ (<span style=\"color: #0087ff; text-decoration-color: #0087ff\">Embedding</span>)               │                        │                │                        │\n",
              "├───────────────────────────┼────────────────────────┼────────────────┼────────────────────────┤\n",
              "│ Flatten_User (<span style=\"color: #0087ff; text-decoration-color: #0087ff\">Flatten</span>)    │ (<span style=\"color: #00d7ff; text-decoration-color: #00d7ff\">None</span>, <span style=\"color: #00af00; text-decoration-color: #00af00\">50</span>)             │              <span style=\"color: #00af00; text-decoration-color: #00af00\">0</span> │ User_Embedding[<span style=\"color: #00af00; text-decoration-color: #00af00\">0</span>][<span style=\"color: #00af00; text-decoration-color: #00af00\">0</span>]   │\n",
              "├───────────────────────────┼────────────────────────┼────────────────┼────────────────────────┤\n",
              "│ Flatten_Product (<span style=\"color: #0087ff; text-decoration-color: #0087ff\">Flatten</span>) │ (<span style=\"color: #00d7ff; text-decoration-color: #00d7ff\">None</span>, <span style=\"color: #00af00; text-decoration-color: #00af00\">50</span>)             │              <span style=\"color: #00af00; text-decoration-color: #00af00\">0</span> │ Product_Embedding[<span style=\"color: #00af00; text-decoration-color: #00af00\">0</span>][<span style=\"color: #00af00; text-decoration-color: #00af00\">…</span> │\n",
              "├───────────────────────────┼────────────────────────┼────────────────┼────────────────────────┤\n",
              "│ Concatenate (<span style=\"color: #0087ff; text-decoration-color: #0087ff\">Concatenate</span>) │ (<span style=\"color: #00d7ff; text-decoration-color: #00d7ff\">None</span>, <span style=\"color: #00af00; text-decoration-color: #00af00\">100</span>)            │              <span style=\"color: #00af00; text-decoration-color: #00af00\">0</span> │ Flatten_User[<span style=\"color: #00af00; text-decoration-color: #00af00\">0</span>][<span style=\"color: #00af00; text-decoration-color: #00af00\">0</span>],    │\n",
              "│                           │                        │                │ Flatten_Product[<span style=\"color: #00af00; text-decoration-color: #00af00\">0</span>][<span style=\"color: #00af00; text-decoration-color: #00af00\">0</span>]  │\n",
              "├───────────────────────────┼────────────────────────┼────────────────┼────────────────────────┤\n",
              "│ Dense_Layer_1 (<span style=\"color: #0087ff; text-decoration-color: #0087ff\">Dense</span>)     │ (<span style=\"color: #00d7ff; text-decoration-color: #00d7ff\">None</span>, <span style=\"color: #00af00; text-decoration-color: #00af00\">128</span>)            │         <span style=\"color: #00af00; text-decoration-color: #00af00\">12,928</span> │ Concatenate[<span style=\"color: #00af00; text-decoration-color: #00af00\">0</span>][<span style=\"color: #00af00; text-decoration-color: #00af00\">0</span>]      │\n",
              "├───────────────────────────┼────────────────────────┼────────────────┼────────────────────────┤\n",
              "│ Dropout_1 (<span style=\"color: #0087ff; text-decoration-color: #0087ff\">Dropout</span>)       │ (<span style=\"color: #00d7ff; text-decoration-color: #00d7ff\">None</span>, <span style=\"color: #00af00; text-decoration-color: #00af00\">128</span>)            │              <span style=\"color: #00af00; text-decoration-color: #00af00\">0</span> │ Dense_Layer_1[<span style=\"color: #00af00; text-decoration-color: #00af00\">0</span>][<span style=\"color: #00af00; text-decoration-color: #00af00\">0</span>]    │\n",
              "├───────────────────────────┼────────────────────────┼────────────────┼────────────────────────┤\n",
              "│ Dense_Layer_2 (<span style=\"color: #0087ff; text-decoration-color: #0087ff\">Dense</span>)     │ (<span style=\"color: #00d7ff; text-decoration-color: #00d7ff\">None</span>, <span style=\"color: #00af00; text-decoration-color: #00af00\">64</span>)             │          <span style=\"color: #00af00; text-decoration-color: #00af00\">8,256</span> │ Dropout_1[<span style=\"color: #00af00; text-decoration-color: #00af00\">0</span>][<span style=\"color: #00af00; text-decoration-color: #00af00\">0</span>]        │\n",
              "├───────────────────────────┼────────────────────────┼────────────────┼────────────────────────┤\n",
              "│ Output (<span style=\"color: #0087ff; text-decoration-color: #0087ff\">Dense</span>)            │ (<span style=\"color: #00d7ff; text-decoration-color: #00d7ff\">None</span>, <span style=\"color: #00af00; text-decoration-color: #00af00\">1</span>)              │             <span style=\"color: #00af00; text-decoration-color: #00af00\">65</span> │ Dense_Layer_2[<span style=\"color: #00af00; text-decoration-color: #00af00\">0</span>][<span style=\"color: #00af00; text-decoration-color: #00af00\">0</span>]    │\n",
              "└───────────────────────────┴────────────────────────┴────────────────┴────────────────────────┘\n",
              "</pre>\n"
            ]
          },
          "metadata": {}
        },
        {
          "output_type": "display_data",
          "data": {
            "text/plain": [
              "\u001b[1m Total params: \u001b[0m\u001b[38;5;34m38,325,699\u001b[0m (146.20 MB)\n"
            ],
            "text/html": [
              "<pre style=\"white-space:pre;overflow-x:auto;line-height:normal;font-family:Menlo,'DejaVu Sans Mono',consolas,'Courier New',monospace\"><span style=\"font-weight: bold\"> Total params: </span><span style=\"color: #00af00; text-decoration-color: #00af00\">38,325,699</span> (146.20 MB)\n",
              "</pre>\n"
            ]
          },
          "metadata": {}
        },
        {
          "output_type": "display_data",
          "data": {
            "text/plain": [
              "\u001b[1m Trainable params: \u001b[0m\u001b[38;5;34m38,325,699\u001b[0m (146.20 MB)\n"
            ],
            "text/html": [
              "<pre style=\"white-space:pre;overflow-x:auto;line-height:normal;font-family:Menlo,'DejaVu Sans Mono',consolas,'Courier New',monospace\"><span style=\"font-weight: bold\"> Trainable params: </span><span style=\"color: #00af00; text-decoration-color: #00af00\">38,325,699</span> (146.20 MB)\n",
              "</pre>\n"
            ]
          },
          "metadata": {}
        },
        {
          "output_type": "display_data",
          "data": {
            "text/plain": [
              "\u001b[1m Non-trainable params: \u001b[0m\u001b[38;5;34m0\u001b[0m (0.00 B)\n"
            ],
            "text/html": [
              "<pre style=\"white-space:pre;overflow-x:auto;line-height:normal;font-family:Menlo,'DejaVu Sans Mono',consolas,'Courier New',monospace\"><span style=\"font-weight: bold\"> Non-trainable params: </span><span style=\"color: #00af00; text-decoration-color: #00af00\">0</span> (0.00 B)\n",
              "</pre>\n"
            ]
          },
          "metadata": {}
        }
      ]
    },
    {
      "cell_type": "code",
      "source": [
        "from tensorflow.keras.callbacks import EarlyStopping, ModelCheckpoint\n",
        "\n",
        "# Define input data for training\n",
        "train_user_input = X_train['UserId'].values\n",
        "train_product_input = X_train['ProductId'].values\n",
        "train_ratings = y_train.values\n",
        "\n",
        "val_user_input = X_test['UserId'].values\n",
        "val_product_input = X_test['ProductId'].values\n",
        "val_ratings = y_test.values\n",
        "\n",
        "# Define early stopping and model checkpoint\n",
        "early_stopping = EarlyStopping(monitor='val_loss', patience=3, restore_best_weights=True)\n",
        "model_checkpoint = ModelCheckpoint(\n",
        "    'best_model.keras', save_best_only=True, monitor='val_loss', mode='min'\n",
        ")\n",
        "\n",
        "# Train the model\n",
        "history = model.fit(\n",
        "    [train_user_input, train_product_input],\n",
        "    train_ratings,\n",
        "    validation_data=([val_user_input, val_product_input], val_ratings),\n",
        "    epochs=10,  # Adjust based on need\n",
        "    batch_size=256,\n",
        "    callbacks=[early_stopping, model_checkpoint],\n",
        "    verbose=1\n",
        ")\n",
        "\n",
        "# Save training history for visualization\n",
        "import pickle\n",
        "with open('training_history.pkl', 'wb') as f:\n",
        "    pickle.dump(history.history, f)\n",
        "\n",
        "print(\"Model training completed and the best model saved as 'best_model.h5'.\")\n"
      ],
      "metadata": {
        "colab": {
          "base_uri": "https://localhost:8080/"
        },
        "id": "gUrrmD95hypP",
        "outputId": "cba6c72c-2cbf-4d59-d69b-c92a6c07a43a"
      },
      "execution_count": 6,
      "outputs": [
        {
          "output_type": "stream",
          "name": "stdout",
          "text": [
            "Epoch 1/10\n",
            "\u001b[1m4214/4214\u001b[0m \u001b[32m━━━━━━━━━━━━━━━━━━━━\u001b[0m\u001b[37m\u001b[0m \u001b[1m52s\u001b[0m 12ms/step - loss: 2.5316 - mean_absolute_error: 1.1988 - val_loss: 1.5312 - val_mean_absolute_error: 0.9580\n",
            "Epoch 2/10\n",
            "\u001b[1m4214/4214\u001b[0m \u001b[32m━━━━━━━━━━━━━━━━━━━━\u001b[0m\u001b[37m\u001b[0m \u001b[1m76s\u001b[0m 11ms/step - loss: 1.0229 - mean_absolute_error: 0.7315 - val_loss: 1.7535 - val_mean_absolute_error: 1.0169\n",
            "Epoch 3/10\n",
            "\u001b[1m4214/4214\u001b[0m \u001b[32m━━━━━━━━━━━━━━━━━━━━\u001b[0m\u001b[37m\u001b[0m \u001b[1m47s\u001b[0m 11ms/step - loss: 0.7416 - mean_absolute_error: 0.5708 - val_loss: 1.7116 - val_mean_absolute_error: 0.9730\n",
            "Epoch 4/10\n",
            "\u001b[1m4214/4214\u001b[0m \u001b[32m━━━━━━━━━━━━━━━━━━━━\u001b[0m\u001b[37m\u001b[0m \u001b[1m45s\u001b[0m 11ms/step - loss: 0.6038 - mean_absolute_error: 0.4796 - val_loss: 1.8449 - val_mean_absolute_error: 1.0502\n",
            "Model training completed and the best model saved as 'best_model.h5'.\n"
          ]
        }
      ]
    },
    {
      "cell_type": "code",
      "source": [
        "# Load the best model saved during training\n",
        "best_model = tf.keras.models.load_model('best_model.keras')\n",
        "\n",
        "# Evaluate the model on the test set\n",
        "test_loss, test_mae = best_model.evaluate([val_user_input, val_product_input], val_ratings, verbose=1)\n",
        "\n",
        "print(f\"Test Loss: {test_loss:.4f}\")\n",
        "print(f\"Test Mean Absolute Error: {test_mae:.4f}\")\n"
      ],
      "metadata": {
        "colab": {
          "base_uri": "https://localhost:8080/"
        },
        "id": "fzwAB-hbjzDA",
        "outputId": "16c75fb1-1fef-4038-d8b3-0d18513d4932"
      },
      "execution_count": 7,
      "outputs": [
        {
          "output_type": "stream",
          "name": "stdout",
          "text": [
            "\u001b[1m8427/8427\u001b[0m \u001b[32m━━━━━━━━━━━━━━━━━━━━\u001b[0m\u001b[37m\u001b[0m \u001b[1m15s\u001b[0m 2ms/step - loss: 1.5435 - mean_absolute_error: 0.9611\n",
            "Test Loss: 1.5312\n",
            "Test Mean Absolute Error: 0.9580\n"
          ]
        }
      ]
    },
    {
      "cell_type": "code",
      "source": [
        "import numpy as np\n",
        "\n",
        "# Randomly sample a subset from the test set as unseen data\n",
        "unseen_indices = np.random.choice(X_test.index, size=1000, replace=False)  # Adjust size as needed\n",
        "unseen_sample = X_test.loc[unseen_indices]\n",
        "unseen_ratings = y_test.loc[unseen_indices]  # Corresponding ground truth ratings\n",
        "\n",
        "# Prepare input for testing\n",
        "unseen_user_input = unseen_sample['UserId'].values\n",
        "unseen_product_input = unseen_sample['ProductId'].values\n",
        "\n",
        "predicted_ratings = best_model.predict([unseen_user_input, unseen_product_input])\n",
        "\n",
        "# Map predictions back to ProductType and URL using the original dataset\n",
        "unseen_sample['Predicted_Rating'] = predicted_ratings\n",
        "\n",
        "# Merge the unseen sample with the original dataset to get ProductType and URL\n",
        "unseen_sample_with_details = unseen_sample.merge(\n",
        "    data[['ProductId', 'ProductType', 'URL']],\n",
        "    on='ProductId',\n",
        "    how='left'\n",
        ")\n",
        "\n",
        "# Display the first few rows with predicted ratings, ProductType, and URL\n",
        "print(unseen_sample_with_details[['ProductId', 'Predicted_Rating', 'ProductType', 'URL']].head(10))\n",
        "\n",
        "print(\"Model input shapes:\")\n",
        "for input_shape in best_model.input_shape:\n",
        "    print(input_shape)\n",
        "\n",
        "unseen_user_input = tf.convert_to_tensor(unseen_user_input, dtype=tf.int32)\n",
        "unseen_product_input = tf.convert_to_tensor(unseen_product_input, dtype=tf.int32)\n",
        "unseen_ratings = tf.convert_to_tensor(unseen_ratings, dtype=tf.float32)\n",
        "\n",
        "# Evaluate performance on the unseen sample\n",
        "unseen_loss, unseen_mae = best_model.evaluate(\n",
        "    [unseen_user_input, unseen_product_input], unseen_ratings, verbose=1\n",
        ")\n",
        "\n",
        "print(f\"Simulated Unseen Data Loss: {unseen_loss:.4f}\")\n",
        "print(f\"Simulated Unseen Data Mean Absolute Error: {unseen_mae:.4f}\")\n",
        "\n",
        "# Predict ratings for the unseen sample\n",
        "predicted_ratings = best_model.predict([unseen_user_input, unseen_product_input])\n",
        "\n",
        "print(\"Predicted Ratings (first 10):\")\n",
        "print(predicted_ratings[:10])"
      ],
      "metadata": {
        "colab": {
          "base_uri": "https://localhost:8080/"
        },
        "id": "VYPCnL6VkSmd",
        "outputId": "6ba12dc5-57f7-4f00-efb8-23a6b893e387"
      },
      "execution_count": 10,
      "outputs": [
        {
          "output_type": "stream",
          "name": "stdout",
          "text": [
            "\u001b[1m32/32\u001b[0m \u001b[32m━━━━━━━━━━━━━━━━━━━━\u001b[0m\u001b[37m\u001b[0m \u001b[1m1s\u001b[0m 11ms/step\n",
            "   ProductId  Predicted_Rating         ProductType  \\\n",
            "0      22243          4.767169  Kits & Accessories   \n",
            "1      22243          4.767169  Kits & Accessories   \n",
            "2      22243          4.767169  Kits & Accessories   \n",
            "3      22243          4.767169  Kits & Accessories   \n",
            "4      22243          4.767169  Kits & Accessories   \n",
            "5      22243          4.767169  Kits & Accessories   \n",
            "6      22243          4.767169  Kits & Accessories   \n",
            "7      22243          4.767169  Kits & Accessories   \n",
            "8      22243          4.767169  Kits & Accessories   \n",
            "9      22243          4.767169  Kits & Accessories   \n",
            "\n",
            "                                                 URL  \n",
            "0  https://www.amazon.in/MARS-Tools-Titans-Makeup...  \n",
            "1  https://www.amazon.in/MARS-Tools-Titans-Makeup...  \n",
            "2  https://www.amazon.in/MARS-Tools-Titans-Makeup...  \n",
            "3  https://www.amazon.in/MARS-Tools-Titans-Makeup...  \n",
            "4  https://www.amazon.in/MARS-Tools-Titans-Makeup...  \n",
            "5  https://www.amazon.in/MARS-Tools-Titans-Makeup...  \n",
            "6  https://www.amazon.in/MARS-Tools-Titans-Makeup...  \n",
            "7  https://www.amazon.in/MARS-Tools-Titans-Makeup...  \n",
            "8  https://www.amazon.in/MARS-Tools-Titans-Makeup...  \n",
            "9  https://www.amazon.in/MARS-Tools-Titans-Makeup...  \n",
            "Model input shapes:\n",
            "(None, 1)\n",
            "(None, 1)\n",
            "\u001b[1m32/32\u001b[0m \u001b[32m━━━━━━━━━━━━━━━━━━━━\u001b[0m\u001b[37m\u001b[0m \u001b[1m1s\u001b[0m 13ms/step - loss: 1.5802 - mean_absolute_error: 0.9415\n",
            "Simulated Unseen Data Loss: 1.6118\n",
            "Simulated Unseen Data Mean Absolute Error: 0.9579\n",
            "\u001b[1m32/32\u001b[0m \u001b[32m━━━━━━━━━━━━━━━━━━━━\u001b[0m\u001b[37m\u001b[0m \u001b[1m1s\u001b[0m 13ms/step\n",
            "Predicted Ratings (first 10):\n",
            "[[4.767169 ]\n",
            " [3.881494 ]\n",
            " [4.908378 ]\n",
            " [4.552239 ]\n",
            " [3.5108757]\n",
            " [4.660462 ]\n",
            " [4.416165 ]\n",
            " [3.0749342]\n",
            " [3.7560449]\n",
            " [4.4760075]]\n"
          ]
        }
      ]
    },
    {
      "cell_type": "code",
      "source": [
        "import numpy as np\n",
        "import pandas as pd\n",
        "import tensorflow as tf\n",
        "\n",
        "# Get unique user IDs and product IDs from the dataset\n",
        "unique_users = X_test['UserId'].unique()\n",
        "unique_products = X_test['ProductId'].unique()\n",
        "\n",
        "# Example: Generate recommendations for a specific user\n",
        "target_user_id = unique_users[0]  # Replace with a specific user ID if needed\n",
        "\n",
        "# Debugging: Print the expected input shapes of the model\n",
        "print(\"Model input shapes:\")\n",
        "for input_shape in best_model.input_shape:\n",
        "    print(input_shape)\n",
        "\n",
        "# Prepare inputs for predictions\n",
        "target_user_input = tf.convert_to_tensor(np.array([target_user_id] * len(unique_products)).reshape(-1, 1), dtype=tf.int32)\n",
        "all_product_input = tf.convert_to_tensor(unique_products.reshape(-1, 1), dtype=tf.int32)\n",
        "\n",
        "# Debugging: Verify shapes of inputs\n",
        "print(f\"Shape of target_user_input: {target_user_input.shape}\")\n",
        "print(f\"Shape of all_product_input: {all_product_input.shape}\")\n",
        "\n",
        "# Perform predictions\n",
        "predicted_ratings = best_model.call([target_user_input, all_product_input])\n",
        "\n",
        "# Convert predictions to a NumPy array\n",
        "predicted_ratings = predicted_ratings.numpy().flatten()\n",
        "\n",
        "# Create a DataFrame to display the top recommendations\n",
        "recommendations = pd.DataFrame({\n",
        "    'ProductId': unique_products,\n",
        "    'Predicted_Rating': predicted_ratings\n",
        "}).sort_values(by='Predicted_Rating', ascending=False)\n",
        "\n",
        "# Merge with product details (e.g., ProductType and URL)\n",
        "recommendations = recommendations.merge(\n",
        "    data[['ProductId', 'ProductType', 'URL']].drop_duplicates(),\n",
        "    on='ProductId',\n",
        "    how='left'\n",
        ")\n",
        "\n",
        "# Display the top 10 recommendations for the target user\n",
        "print(\"Top 10 Recommendations for User ID:\", target_user_id)\n",
        "print(recommendations[['ProductId', 'Predicted_Rating', 'ProductType', 'URL']].head(10))"
      ],
      "metadata": {
        "colab": {
          "base_uri": "https://localhost:8080/"
        },
        "id": "SZdEmwRJmfo1",
        "outputId": "ecc283e7-b06d-4bfd-9580-b0fe1bc5fc28"
      },
      "execution_count": 13,
      "outputs": [
        {
          "output_type": "stream",
          "name": "stdout",
          "text": [
            "Model input shapes:\n",
            "(None, 1)\n",
            "(None, 1)\n",
            "Shape of target_user_input: (23684, 1)\n",
            "Shape of all_product_input: (23684, 1)\n",
            "Top 10 Recommendations for User ID: 299701\n",
            "   ProductId  Predicted_Rating            ProductType  \\\n",
            "0      17773          4.903515     Hair Color & Heena   \n",
            "1      23619          4.858184             Bath Salts   \n",
            "2       4015          4.841374            Nail Polish   \n",
            "3      20988          4.836292          Deo & Perfume   \n",
            "4      23791          4.832345          Talcum Powder   \n",
            "5       7818          4.831146             Shower Gel   \n",
            "6      23727          4.829093               Hair Oil   \n",
            "7       1152          4.819508            Nail Polish   \n",
            "8      11776          4.818071  Face Wash & Cleansers   \n",
            "9      21600          4.812899    Cream & Moisturizer   \n",
            "\n",
            "                                                 URL  \n",
            "0  https://www.amazon.in/Bombay-Shaving-Company-N...  \n",
            "1  https://www.amazon.in/gp/slredirect/picassoRed...  \n",
            "2  https://www.amazon.in/sspa/click?ie=UTF8&spc=M...  \n",
            "3  https://www.amazon.in/Plum-BodyLovin-Fragrance...  \n",
            "4  https://www.amazon.in/gp/slredirect/picassoRed...  \n",
            "5  https://www.amazon.in/Lux-Fragrance-Juniper-Bo...  \n",
            "6  https://www.amazon.in/gp/slredirect/picassoRed...  \n",
            "7  https://www.amazon.in/sspa/click?ie=UTF8&spc=M...  \n",
            "8  https://www.amazon.in/Garnier-Bright-Double-Ch...  \n",
            "9  https://www.amazon.in/Derma-Co-Niacinamide-Ser...  \n"
          ]
        }
      ]
    },
    {
      "cell_type": "code",
      "source": [
        "from tensorflow.keras.optimizers import Adam\n",
        "from tensorflow.keras.callbacks import LearningRateScheduler, EarlyStopping\n",
        "\n",
        "# Modify the optimizer with a lower learning rate\n",
        "optimizer = Adam(learning_rate=0.001)\n",
        "\n",
        "# Recompile the model\n",
        "best_model.compile(optimizer=optimizer, loss='mean_squared_error', metrics=['mean_absolute_error'])\n",
        "\n",
        "# Define a learning rate scheduler\n",
        "def lr_scheduler(epoch, lr):\n",
        "    if epoch > 5:\n",
        "        return lr * 0.9\n",
        "    return lr\n",
        "\n",
        "lr_callback = LearningRateScheduler(lr_scheduler)\n",
        "\n",
        "# Add Early Stopping\n",
        "early_stopping = EarlyStopping(monitor='val_loss', patience=3, restore_best_weights=True)\n",
        "\n",
        "# Retrain the model\n",
        "history_fine_tuned = best_model.fit(\n",
        "    [X_train['UserId'], X_train['ProductId']],\n",
        "    y_train,\n",
        "    validation_data=([X_test['UserId'], X_test['ProductId']], y_test),\n",
        "    epochs=10,\n",
        "    batch_size=256,\n",
        "    callbacks=[lr_callback, early_stopping],\n",
        "    verbose=1\n",
        ")\n",
        "# Save the fine-tuned model in TensorFlow's SavedModel format\n",
        "best_model.save('fine_tuned_recommendation_model')\n",
        "\n",
        "print(\"Fine-tuned model saved as 'fine_tuned_recommendation_model'.\")"
      ],
      "metadata": {
        "colab": {
          "base_uri": "https://localhost:8080/",
          "height": 646
        },
        "id": "WyM9RJtPooXX",
        "outputId": "819f2917-e2d1-437c-d6bd-a476ddff91a3"
      },
      "execution_count": 14,
      "outputs": [
        {
          "output_type": "stream",
          "name": "stdout",
          "text": [
            "Epoch 1/10\n",
            "\u001b[1m4214/4214\u001b[0m \u001b[32m━━━━━━━━━━━━━━━━━━━━\u001b[0m\u001b[37m\u001b[0m \u001b[1m46s\u001b[0m 10ms/step - loss: 1.0168 - mean_absolute_error: 0.7248 - val_loss: 1.7747 - val_mean_absolute_error: 1.0094 - learning_rate: 0.0010\n",
            "Epoch 2/10\n",
            "\u001b[1m4214/4214\u001b[0m \u001b[32m━━━━━━━━━━━━━━━━━━━━\u001b[0m\u001b[37m\u001b[0m \u001b[1m78s\u001b[0m 10ms/step - loss: 0.7213 - mean_absolute_error: 0.5614 - val_loss: 1.7002 - val_mean_absolute_error: 0.9842 - learning_rate: 0.0010\n",
            "Epoch 3/10\n",
            "\u001b[1m4214/4214\u001b[0m \u001b[32m━━━━━━━━━━━━━━━━━━━━\u001b[0m\u001b[37m\u001b[0m \u001b[1m40s\u001b[0m 10ms/step - loss: 0.5929 - mean_absolute_error: 0.4749 - val_loss: 1.7556 - val_mean_absolute_error: 1.0082 - learning_rate: 0.0010\n",
            "Epoch 4/10\n",
            "\u001b[1m4214/4214\u001b[0m \u001b[32m━━━━━━━━━━━━━━━━━━━━\u001b[0m\u001b[37m\u001b[0m \u001b[1m41s\u001b[0m 10ms/step - loss: 0.5228 - mean_absolute_error: 0.4252 - val_loss: 1.7809 - val_mean_absolute_error: 1.0027 - learning_rate: 0.0010\n",
            "Epoch 5/10\n",
            "\u001b[1m4214/4214\u001b[0m \u001b[32m━━━━━━━━━━━━━━━━━━━━\u001b[0m\u001b[37m\u001b[0m \u001b[1m41s\u001b[0m 10ms/step - loss: 0.4661 - mean_absolute_error: 0.3891 - val_loss: 1.8174 - val_mean_absolute_error: 1.0193 - learning_rate: 0.0010\n"
          ]
        },
        {
          "output_type": "error",
          "ename": "ValueError",
          "evalue": "Invalid filepath extension for saving. Please add either a `.keras` extension for the native Keras format (recommended) or a `.h5` extension. Use `model.export(filepath)` if you want to export a SavedModel for use with TFLite/TFServing/etc. Received: filepath=fine_tuned_recommendation_model.",
          "traceback": [
            "\u001b[0;31m---------------------------------------------------------------------------\u001b[0m",
            "\u001b[0;31mValueError\u001b[0m                                Traceback (most recent call last)",
            "\u001b[0;32m<ipython-input-14-9ba3b2ac823e>\u001b[0m in \u001b[0;36m<cell line: 32>\u001b[0;34m()\u001b[0m\n\u001b[1;32m     30\u001b[0m )\n\u001b[1;32m     31\u001b[0m \u001b[0;31m# Save the fine-tuned model in TensorFlow's SavedModel format\u001b[0m\u001b[0;34m\u001b[0m\u001b[0;34m\u001b[0m\u001b[0m\n\u001b[0;32m---> 32\u001b[0;31m \u001b[0mbest_model\u001b[0m\u001b[0;34m.\u001b[0m\u001b[0msave\u001b[0m\u001b[0;34m(\u001b[0m\u001b[0;34m'fine_tuned_recommendation_model'\u001b[0m\u001b[0;34m)\u001b[0m\u001b[0;34m\u001b[0m\u001b[0;34m\u001b[0m\u001b[0m\n\u001b[0m\u001b[1;32m     33\u001b[0m \u001b[0;34m\u001b[0m\u001b[0m\n\u001b[1;32m     34\u001b[0m \u001b[0mprint\u001b[0m\u001b[0;34m(\u001b[0m\u001b[0;34m\"Fine-tuned model saved as 'fine_tuned_recommendation_model'.\"\u001b[0m\u001b[0;34m)\u001b[0m\u001b[0;34m\u001b[0m\u001b[0;34m\u001b[0m\u001b[0m\n",
            "\u001b[0;32m/usr/local/lib/python3.10/dist-packages/keras/src/utils/traceback_utils.py\u001b[0m in \u001b[0;36merror_handler\u001b[0;34m(*args, **kwargs)\u001b[0m\n\u001b[1;32m    120\u001b[0m             \u001b[0;31m# To get the full stack trace, call:\u001b[0m\u001b[0;34m\u001b[0m\u001b[0;34m\u001b[0m\u001b[0m\n\u001b[1;32m    121\u001b[0m             \u001b[0;31m# `keras.config.disable_traceback_filtering()`\u001b[0m\u001b[0;34m\u001b[0m\u001b[0;34m\u001b[0m\u001b[0m\n\u001b[0;32m--> 122\u001b[0;31m             \u001b[0;32mraise\u001b[0m \u001b[0me\u001b[0m\u001b[0;34m.\u001b[0m\u001b[0mwith_traceback\u001b[0m\u001b[0;34m(\u001b[0m\u001b[0mfiltered_tb\u001b[0m\u001b[0;34m)\u001b[0m \u001b[0;32mfrom\u001b[0m \u001b[0;32mNone\u001b[0m\u001b[0;34m\u001b[0m\u001b[0;34m\u001b[0m\u001b[0m\n\u001b[0m\u001b[1;32m    123\u001b[0m         \u001b[0;32mfinally\u001b[0m\u001b[0;34m:\u001b[0m\u001b[0;34m\u001b[0m\u001b[0;34m\u001b[0m\u001b[0m\n\u001b[1;32m    124\u001b[0m             \u001b[0;32mdel\u001b[0m \u001b[0mfiltered_tb\u001b[0m\u001b[0;34m\u001b[0m\u001b[0;34m\u001b[0m\u001b[0m\n",
            "\u001b[0;32m/usr/local/lib/python3.10/dist-packages/keras/src/saving/saving_api.py\u001b[0m in \u001b[0;36msave_model\u001b[0;34m(model, filepath, overwrite, zipped, **kwargs)\u001b[0m\n\u001b[1;32m    112\u001b[0m             \u001b[0mmodel\u001b[0m\u001b[0;34m,\u001b[0m \u001b[0mfilepath\u001b[0m\u001b[0;34m,\u001b[0m \u001b[0moverwrite\u001b[0m\u001b[0;34m,\u001b[0m \u001b[0minclude_optimizer\u001b[0m\u001b[0;34m\u001b[0m\u001b[0;34m\u001b[0m\u001b[0m\n\u001b[1;32m    113\u001b[0m         )\n\u001b[0;32m--> 114\u001b[0;31m     raise ValueError(\n\u001b[0m\u001b[1;32m    115\u001b[0m         \u001b[0;34m\"Invalid filepath extension for saving. \"\u001b[0m\u001b[0;34m\u001b[0m\u001b[0;34m\u001b[0m\u001b[0m\n\u001b[1;32m    116\u001b[0m         \u001b[0;34m\"Please add either a `.keras` extension for the native Keras \"\u001b[0m\u001b[0;34m\u001b[0m\u001b[0;34m\u001b[0m\u001b[0m\n",
            "\u001b[0;31mValueError\u001b[0m: Invalid filepath extension for saving. Please add either a `.keras` extension for the native Keras format (recommended) or a `.h5` extension. Use `model.export(filepath)` if you want to export a SavedModel for use with TFLite/TFServing/etc. Received: filepath=fine_tuned_recommendation_model."
          ]
        }
      ]
    },
    {
      "cell_type": "code",
      "source": [
        "import matplotlib.pyplot as plt\n",
        "\n",
        "# Plot training and validation loss\n",
        "def plot_training_history(history, title=\"Training and Validation Loss\"):\n",
        "    plt.plot(history.history['loss'], label='Training Loss')\n",
        "    plt.plot(history.history['val_loss'], label='Validation Loss')\n",
        "    plt.xlabel('Epoch')\n",
        "    plt.ylabel('Loss')\n",
        "    plt.legend()\n",
        "    plt.title(title)\n",
        "    plt.show()\n",
        "\n",
        "# Visualize the fine-tuned model's training history\n",
        "plot_training_history(history_fine_tuned)\n"
      ],
      "metadata": {
        "colab": {
          "base_uri": "https://localhost:8080/",
          "height": 472
        },
        "id": "gGcMyAOXsyEO",
        "outputId": "1d28f494-e2e9-4cd7-f2b3-4233004d0a50"
      },
      "execution_count": 15,
      "outputs": [
        {
          "output_type": "display_data",
          "data": {
            "text/plain": [
              "<Figure size 640x480 with 1 Axes>"
            ],
            "image/png": "[encoded data removed]"
          },
          "metadata": {}
        }
      ]
    }
  ]
}