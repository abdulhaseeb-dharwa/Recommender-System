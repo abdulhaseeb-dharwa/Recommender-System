{
 "cells": [
  {
   "cell_type": "code",
   "execution_count": 2,
   "metadata": {},
   "outputs": [
    {
     "name": "stderr",
     "output_type": "stream",
     "text": [
      "c:\\Users\\Abdul Haseeb\\Desktop\\Recommender system\\Recommender-System\\.venv\\lib\\site-packages\\tqdm\\auto.py:21: TqdmWarning: IProgress not found. Please update jupyter and ipywidgets. See https://ipywidgets.readthedocs.io/en/stable/user_install.html\n",
      "  from .autonotebook import tqdm as notebook_tqdm\n"
     ]
    },
    {
     "name": "stdout",
     "output_type": "stream",
     "text": [
      "Path to dataset files: C:\\Users\\Abdul Haseeb\\.cache\\kagglehub\\datasets\\satrapankti\\amazon-beauty-product-recommendation\\versions\\1\n"
     ]
    }
   ],
   "source": [
    "import kagglehub\n",
    "\n",
    "# Download latest version\n",
    "path = kagglehub.dataset_download(\"satrapankti/amazon-beauty-product-recommendation\")\n",
    "\n",
    "print(\"Path to dataset files:\", path)"
   ]
  },
  {
   "cell_type": "code",
   "execution_count": 7,
   "metadata": {},
   "outputs": [
    {
     "name": "stdout",
     "output_type": "stream",
     "text": [
      "           UserId   ProductId       ProductType  Rating   Timestamp  \\\n",
      "0  A3NHUQ33CFH3VM  B00LLPT4HI  Eyeliner & Kajal       5  1405814400   \n",
      "1  A1TIRNQ7O4REOH  B00LLPT4HI  Eyeliner & Kajal       4  1405987200   \n",
      "2  A2Y36BR4YSY9F7  B00LLPT4HI  Eyeliner & Kajal       5  1405728000   \n",
      "3  A23H6FAOLEMAKC  B00LLPT4HI  Eyeliner & Kajal       5  1405814400   \n",
      "4  A3CHYZGF3OO6WD  B00LLPT4HI  Eyeliner & Kajal       5  1405641600   \n",
      "\n",
      "                                                 URL  \n",
      "0  https://www.amazon.in/Maybelline-Colossal-Kaja...  \n",
      "1  https://www.amazon.in/Maybelline-Colossal-Kaja...  \n",
      "2  https://www.amazon.in/Maybelline-Colossal-Kaja...  \n",
      "3  https://www.amazon.in/Maybelline-Colossal-Kaja...  \n",
      "4  https://www.amazon.in/Maybelline-Colossal-Kaja...  \n"
     ]
    }
   ],
   "source": [
    "#reading the csv file\n",
    "import pandas as pd\n",
    "data = pd.read_csv(r'C:\\Users\\Abdul Haseeb\\Desktop\\Recommender system\\Recommender-System\\Amazon_Beauty_Recommendation.csv')\n",
    "print(data.head())"
   ]
  },
  {
   "cell_type": "code",
   "execution_count": 8,
   "metadata": {},
   "outputs": [
    {
     "name": "stdout",
     "output_type": "stream",
     "text": [
      "Dataset Info:\n",
      "<class 'pandas.core.frame.DataFrame'>\n",
      "RangeIndex: 1348246 entries, 0 to 1348245\n",
      "Data columns (total 6 columns):\n",
      " #   Column       Non-Null Count    Dtype \n",
      "---  ------       --------------    ----- \n",
      " 0   UserId       1348246 non-null  object\n",
      " 1   ProductId    1348246 non-null  object\n",
      " 2   ProductType  1348246 non-null  object\n",
      " 3   Rating       1348246 non-null  int64 \n",
      " 4   Timestamp    1348246 non-null  int64 \n",
      " 5   URL          1348246 non-null  object\n",
      "dtypes: int64(2), object(4)\n",
      "memory usage: 61.7+ MB\n",
      "None\n",
      "Prepared data saved to prepared_data.csv\n"
     ]
    }
   ],
   "source": [
    "#data preprocessing\n",
    "from sklearn.preprocessing import LabelEncoder\n",
    "from sklearn.model_selection import train_test_split\n",
    "\n",
    "# Display basic info about the dataset\n",
    "print(\"Dataset Info:\")\n",
    "print(data.info())\n",
    "\n",
    "# Handle missing values (if any)\n",
    "data = data.dropna()\n",
    "\n",
    "# Remove duplicates (if any)\n",
    "data = data.drop_duplicates()\n",
    "\n",
    "# Encode UserId and ProductId into numeric format\n",
    "user_encoder = LabelEncoder()\n",
    "product_encoder = LabelEncoder()\n",
    "\n",
    "data['UserId'] = user_encoder.fit_transform(data['UserId'])\n",
    "data['ProductId'] = product_encoder.fit_transform(data['ProductId'])\n",
    "\n",
    "# Feature and Target\n",
    "features = data[['UserId', 'ProductId', 'Rating', 'Timestamp']]\n",
    "target = data['Rating']\n",
    "\n",
    "# Normalizing Timestamp (improves model performance)\n",
    "features = features.copy()\n",
    "features['Timestamp'] = (features['Timestamp'] - features['Timestamp'].min()) / (features['Timestamp'].max() - features['Timestamp'].min())\n",
    "\n",
    "prepared_data_path = 'prepared_data.csv'\n",
    "features.to_csv(prepared_data_path, index=False)\n",
    "print(f\"Prepared data saved to {prepared_data_path}\")"
   ]
  },
  {
   "cell_type": "code",
   "execution_count": 9,
   "metadata": {},
   "outputs": [
    {
     "name": "stdout",
     "output_type": "stream",
     "text": [
      "Training Features Shape: (1078596, 3)\n",
      "Testing Features Shape: (269650, 3)\n",
      "Training Target Shape: (1078596,)\n",
      "Testing Target Shape: (269650,)\n",
      "Training and testing splits saved as CSV files.\n"
     ]
    }
   ],
   "source": [
    "# Split the data into training and testing sets\n",
    "X = features[['UserId', 'ProductId', 'Timestamp']]\n",
    "y = features['Rating']\n",
    "\n",
    "X_train, X_test, y_train, y_test = train_test_split(X, y, test_size=0.2, random_state=42)\n",
    "\n",
    "# Display the shapes of the splits\n",
    "print(f\"Training Features Shape: {X_train.shape}\")\n",
    "print(f\"Testing Features Shape: {X_test.shape}\")\n",
    "print(f\"Training Target Shape: {y_train.shape}\")\n",
    "print(f\"Testing Target Shape: {y_test.shape}\")\n",
    "\n",
    "# Save the splits for later use\n",
    "X_train.to_csv('X_train.csv', index=False)\n",
    "X_test.to_csv('X_test.csv', index=False)\n",
    "y_train.to_csv('y_train.csv', index=False)\n",
    "y_test.to_csv('y_test.csv', index=False)\n",
    "\n",
    "print(\"Training and testing splits saved as CSV files.\")"
   ]
  },
  {
   "cell_type": "code",
   "execution_count": 10,
   "metadata": {},
   "outputs": [
    {
     "data": {
      "text/html": [
       "<pre style=\"white-space:pre;overflow-x:auto;line-height:normal;font-family:Menlo,'DejaVu Sans Mono',consolas,'Courier New',monospace\"><span style=\"font-weight: bold\">Model: \"functional\"</span>\n",
       "</pre>\n"
      ],
      "text/plain": [
       "\u001b[1mModel: \"functional\"\u001b[0m\n"
      ]
     },
     "metadata": {},
     "output_type": "display_data"
    },
    {
     "data": {
      "text/html": [
       "<pre style=\"white-space:pre;overflow-x:auto;line-height:normal;font-family:Menlo,'DejaVu Sans Mono',consolas,'Courier New',monospace\">┏━━━━━━━━━━━━━━━━━━━━━┳━━━━━━━━━━━━━━━━━━━┳━━━━━━━━━━━━┳━━━━━━━━━━━━━━━━━━━┓\n",
       "┃<span style=\"font-weight: bold\"> Layer (type)        </span>┃<span style=\"font-weight: bold\"> Output Shape      </span>┃<span style=\"font-weight: bold\">    Param # </span>┃<span style=\"font-weight: bold\"> Connected to      </span>┃\n",
       "┡━━━━━━━━━━━━━━━━━━━━━╇━━━━━━━━━━━━━━━━━━━╇━━━━━━━━━━━━╇━━━━━━━━━━━━━━━━━━━┩\n",
       "│ User_Input          │ (<span style=\"color: #00d7ff; text-decoration-color: #00d7ff\">None</span>, <span style=\"color: #00af00; text-decoration-color: #00af00\">1</span>)         │          <span style=\"color: #00af00; text-decoration-color: #00af00\">0</span> │ -                 │\n",
       "│ (<span style=\"color: #0087ff; text-decoration-color: #0087ff\">InputLayer</span>)        │                   │            │                   │\n",
       "├─────────────────────┼───────────────────┼────────────┼───────────────────┤\n",
       "│ Product_Input       │ (<span style=\"color: #00d7ff; text-decoration-color: #00d7ff\">None</span>, <span style=\"color: #00af00; text-decoration-color: #00af00\">1</span>)         │          <span style=\"color: #00af00; text-decoration-color: #00af00\">0</span> │ -                 │\n",
       "│ (<span style=\"color: #0087ff; text-decoration-color: #0087ff\">InputLayer</span>)        │                   │            │                   │\n",
       "├─────────────────────┼───────────────────┼────────────┼───────────────────┤\n",
       "│ User_Embedding      │ (<span style=\"color: #00d7ff; text-decoration-color: #00d7ff\">None</span>, <span style=\"color: #00af00; text-decoration-color: #00af00\">1</span>, <span style=\"color: #00af00; text-decoration-color: #00af00\">50</span>)     │ <span style=\"color: #00af00; text-decoration-color: #00af00\">37,112,550</span> │ User_Input[<span style=\"color: #00af00; text-decoration-color: #00af00\">0</span>][<span style=\"color: #00af00; text-decoration-color: #00af00\">0</span>]  │\n",
       "│ (<span style=\"color: #0087ff; text-decoration-color: #0087ff\">Embedding</span>)         │                   │            │                   │\n",
       "├─────────────────────┼───────────────────┼────────────┼───────────────────┤\n",
       "│ Product_Embedding   │ (<span style=\"color: #00d7ff; text-decoration-color: #00d7ff\">None</span>, <span style=\"color: #00af00; text-decoration-color: #00af00\">1</span>, <span style=\"color: #00af00; text-decoration-color: #00af00\">50</span>)     │  <span style=\"color: #00af00; text-decoration-color: #00af00\">1,191,900</span> │ Product_Input[<span style=\"color: #00af00; text-decoration-color: #00af00\">0</span>]… │\n",
       "│ (<span style=\"color: #0087ff; text-decoration-color: #0087ff\">Embedding</span>)         │                   │            │                   │\n",
       "├─────────────────────┼───────────────────┼────────────┼───────────────────┤\n",
       "│ Flatten_User        │ (<span style=\"color: #00d7ff; text-decoration-color: #00d7ff\">None</span>, <span style=\"color: #00af00; text-decoration-color: #00af00\">50</span>)        │          <span style=\"color: #00af00; text-decoration-color: #00af00\">0</span> │ User_Embedding[<span style=\"color: #00af00; text-decoration-color: #00af00\">0</span>… │\n",
       "│ (<span style=\"color: #0087ff; text-decoration-color: #0087ff\">Flatten</span>)           │                   │            │                   │\n",
       "├─────────────────────┼───────────────────┼────────────┼───────────────────┤\n",
       "│ Flatten_Product     │ (<span style=\"color: #00d7ff; text-decoration-color: #00d7ff\">None</span>, <span style=\"color: #00af00; text-decoration-color: #00af00\">50</span>)        │          <span style=\"color: #00af00; text-decoration-color: #00af00\">0</span> │ Product_Embeddin… │\n",
       "│ (<span style=\"color: #0087ff; text-decoration-color: #0087ff\">Flatten</span>)           │                   │            │                   │\n",
       "├─────────────────────┼───────────────────┼────────────┼───────────────────┤\n",
       "│ Concatenate         │ (<span style=\"color: #00d7ff; text-decoration-color: #00d7ff\">None</span>, <span style=\"color: #00af00; text-decoration-color: #00af00\">100</span>)       │          <span style=\"color: #00af00; text-decoration-color: #00af00\">0</span> │ Flatten_User[<span style=\"color: #00af00; text-decoration-color: #00af00\">0</span>][<span style=\"color: #00af00; text-decoration-color: #00af00\">…</span> │\n",
       "│ (<span style=\"color: #0087ff; text-decoration-color: #0087ff\">Concatenate</span>)       │                   │            │ Flatten_Product[<span style=\"color: #00af00; text-decoration-color: #00af00\">…</span> │\n",
       "├─────────────────────┼───────────────────┼────────────┼───────────────────┤\n",
       "│ Dense_Layer_1       │ (<span style=\"color: #00d7ff; text-decoration-color: #00d7ff\">None</span>, <span style=\"color: #00af00; text-decoration-color: #00af00\">128</span>)       │     <span style=\"color: #00af00; text-decoration-color: #00af00\">12,928</span> │ Concatenate[<span style=\"color: #00af00; text-decoration-color: #00af00\">0</span>][<span style=\"color: #00af00; text-decoration-color: #00af00\">0</span>] │\n",
       "│ (<span style=\"color: #0087ff; text-decoration-color: #0087ff\">Dense</span>)             │                   │            │                   │\n",
       "├─────────────────────┼───────────────────┼────────────┼───────────────────┤\n",
       "│ Dropout_1 (<span style=\"color: #0087ff; text-decoration-color: #0087ff\">Dropout</span>) │ (<span style=\"color: #00d7ff; text-decoration-color: #00d7ff\">None</span>, <span style=\"color: #00af00; text-decoration-color: #00af00\">128</span>)       │          <span style=\"color: #00af00; text-decoration-color: #00af00\">0</span> │ Dense_Layer_1[<span style=\"color: #00af00; text-decoration-color: #00af00\">0</span>]… │\n",
       "├─────────────────────┼───────────────────┼────────────┼───────────────────┤\n",
       "│ Dense_Layer_2       │ (<span style=\"color: #00d7ff; text-decoration-color: #00d7ff\">None</span>, <span style=\"color: #00af00; text-decoration-color: #00af00\">64</span>)        │      <span style=\"color: #00af00; text-decoration-color: #00af00\">8,256</span> │ Dropout_1[<span style=\"color: #00af00; text-decoration-color: #00af00\">0</span>][<span style=\"color: #00af00; text-decoration-color: #00af00\">0</span>]   │\n",
       "│ (<span style=\"color: #0087ff; text-decoration-color: #0087ff\">Dense</span>)             │                   │            │                   │\n",
       "├─────────────────────┼───────────────────┼────────────┼───────────────────┤\n",
       "│ Output (<span style=\"color: #0087ff; text-decoration-color: #0087ff\">Dense</span>)      │ (<span style=\"color: #00d7ff; text-decoration-color: #00d7ff\">None</span>, <span style=\"color: #00af00; text-decoration-color: #00af00\">1</span>)         │         <span style=\"color: #00af00; text-decoration-color: #00af00\">65</span> │ Dense_Layer_2[<span style=\"color: #00af00; text-decoration-color: #00af00\">0</span>]… │\n",
       "└─────────────────────┴───────────────────┴────────────┴───────────────────┘\n",
       "</pre>\n"
      ],
      "text/plain": [
       "┏━━━━━━━━━━━━━━━━━━━━━┳━━━━━━━━━━━━━━━━━━━┳━━━━━━━━━━━━┳━━━━━━━━━━━━━━━━━━━┓\n",
       "┃\u001b[1m \u001b[0m\u001b[1mLayer (type)       \u001b[0m\u001b[1m \u001b[0m┃\u001b[1m \u001b[0m\u001b[1mOutput Shape     \u001b[0m\u001b[1m \u001b[0m┃\u001b[1m \u001b[0m\u001b[1m   Param #\u001b[0m\u001b[1m \u001b[0m┃\u001b[1m \u001b[0m\u001b[1mConnected to     \u001b[0m\u001b[1m \u001b[0m┃\n",
       "┡━━━━━━━━━━━━━━━━━━━━━╇━━━━━━━━━━━━━━━━━━━╇━━━━━━━━━━━━╇━━━━━━━━━━━━━━━━━━━┩\n",
       "│ User_Input          │ (\u001b[38;5;45mNone\u001b[0m, \u001b[38;5;34m1\u001b[0m)         │          \u001b[38;5;34m0\u001b[0m │ -                 │\n",
       "│ (\u001b[38;5;33mInputLayer\u001b[0m)        │                   │            │                   │\n",
       "├─────────────────────┼───────────────────┼────────────┼───────────────────┤\n",
       "│ Product_Input       │ (\u001b[38;5;45mNone\u001b[0m, \u001b[38;5;34m1\u001b[0m)         │          \u001b[38;5;34m0\u001b[0m │ -                 │\n",
       "│ (\u001b[38;5;33mInputLayer\u001b[0m)        │                   │            │                   │\n",
       "├─────────────────────┼───────────────────┼────────────┼───────────────────┤\n",
       "│ User_Embedding      │ (\u001b[38;5;45mNone\u001b[0m, \u001b[38;5;34m1\u001b[0m, \u001b[38;5;34m50\u001b[0m)     │ \u001b[38;5;34m37,112,550\u001b[0m │ User_Input[\u001b[38;5;34m0\u001b[0m][\u001b[38;5;34m0\u001b[0m]  │\n",
       "│ (\u001b[38;5;33mEmbedding\u001b[0m)         │                   │            │                   │\n",
       "├─────────────────────┼───────────────────┼────────────┼───────────────────┤\n",
       "│ Product_Embedding   │ (\u001b[38;5;45mNone\u001b[0m, \u001b[38;5;34m1\u001b[0m, \u001b[38;5;34m50\u001b[0m)     │  \u001b[38;5;34m1,191,900\u001b[0m │ Product_Input[\u001b[38;5;34m0\u001b[0m]… │\n",
       "│ (\u001b[38;5;33mEmbedding\u001b[0m)         │                   │            │                   │\n",
       "├─────────────────────┼───────────────────┼────────────┼───────────────────┤\n",
       "│ Flatten_User        │ (\u001b[38;5;45mNone\u001b[0m, \u001b[38;5;34m50\u001b[0m)        │          \u001b[38;5;34m0\u001b[0m │ User_Embedding[\u001b[38;5;34m0\u001b[0m… │\n",
       "│ (\u001b[38;5;33mFlatten\u001b[0m)           │                   │            │                   │\n",
       "├─────────────────────┼───────────────────┼────────────┼───────────────────┤\n",
       "│ Flatten_Product     │ (\u001b[38;5;45mNone\u001b[0m, \u001b[38;5;34m50\u001b[0m)        │          \u001b[38;5;34m0\u001b[0m │ Product_Embeddin… │\n",
       "│ (\u001b[38;5;33mFlatten\u001b[0m)           │                   │            │                   │\n",
       "├─────────────────────┼───────────────────┼────────────┼───────────────────┤\n",
       "│ Concatenate         │ (\u001b[38;5;45mNone\u001b[0m, \u001b[38;5;34m100\u001b[0m)       │          \u001b[38;5;34m0\u001b[0m │ Flatten_User[\u001b[38;5;34m0\u001b[0m][\u001b[38;5;34m…\u001b[0m │\n",
       "│ (\u001b[38;5;33mConcatenate\u001b[0m)       │                   │            │ Flatten_Product[\u001b[38;5;34m…\u001b[0m │\n",
       "├─────────────────────┼───────────────────┼────────────┼───────────────────┤\n",
       "│ Dense_Layer_1       │ (\u001b[38;5;45mNone\u001b[0m, \u001b[38;5;34m128\u001b[0m)       │     \u001b[38;5;34m12,928\u001b[0m │ Concatenate[\u001b[38;5;34m0\u001b[0m][\u001b[38;5;34m0\u001b[0m] │\n",
       "│ (\u001b[38;5;33mDense\u001b[0m)             │                   │            │                   │\n",
       "├─────────────────────┼───────────────────┼────────────┼───────────────────┤\n",
       "│ Dropout_1 (\u001b[38;5;33mDropout\u001b[0m) │ (\u001b[38;5;45mNone\u001b[0m, \u001b[38;5;34m128\u001b[0m)       │          \u001b[38;5;34m0\u001b[0m │ Dense_Layer_1[\u001b[38;5;34m0\u001b[0m]… │\n",
       "├─────────────────────┼───────────────────┼────────────┼───────────────────┤\n",
       "│ Dense_Layer_2       │ (\u001b[38;5;45mNone\u001b[0m, \u001b[38;5;34m64\u001b[0m)        │      \u001b[38;5;34m8,256\u001b[0m │ Dropout_1[\u001b[38;5;34m0\u001b[0m][\u001b[38;5;34m0\u001b[0m]   │\n",
       "│ (\u001b[38;5;33mDense\u001b[0m)             │                   │            │                   │\n",
       "├─────────────────────┼───────────────────┼────────────┼───────────────────┤\n",
       "│ Output (\u001b[38;5;33mDense\u001b[0m)      │ (\u001b[38;5;45mNone\u001b[0m, \u001b[38;5;34m1\u001b[0m)         │         \u001b[38;5;34m65\u001b[0m │ Dense_Layer_2[\u001b[38;5;34m0\u001b[0m]… │\n",
       "└─────────────────────┴───────────────────┴────────────┴───────────────────┘\n"
      ]
     },
     "metadata": {},
     "output_type": "display_data"
    },
    {
     "data": {
      "text/html": [
       "<pre style=\"white-space:pre;overflow-x:auto;line-height:normal;font-family:Menlo,'DejaVu Sans Mono',consolas,'Courier New',monospace\"><span style=\"font-weight: bold\"> Total params: </span><span style=\"color: #00af00; text-decoration-color: #00af00\">38,325,699</span> (146.20 MB)\n",
       "</pre>\n"
      ],
      "text/plain": [
       "\u001b[1m Total params: \u001b[0m\u001b[38;5;34m38,325,699\u001b[0m (146.20 MB)\n"
      ]
     },
     "metadata": {},
     "output_type": "display_data"
    },
    {
     "data": {
      "text/html": [
       "<pre style=\"white-space:pre;overflow-x:auto;line-height:normal;font-family:Menlo,'DejaVu Sans Mono',consolas,'Courier New',monospace\"><span style=\"font-weight: bold\"> Trainable params: </span><span style=\"color: #00af00; text-decoration-color: #00af00\">38,325,699</span> (146.20 MB)\n",
       "</pre>\n"
      ],
      "text/plain": [
       "\u001b[1m Trainable params: \u001b[0m\u001b[38;5;34m38,325,699\u001b[0m (146.20 MB)\n"
      ]
     },
     "metadata": {},
     "output_type": "display_data"
    },
    {
     "data": {
      "text/html": [
       "<pre style=\"white-space:pre;overflow-x:auto;line-height:normal;font-family:Menlo,'DejaVu Sans Mono',consolas,'Courier New',monospace\"><span style=\"font-weight: bold\"> Non-trainable params: </span><span style=\"color: #00af00; text-decoration-color: #00af00\">0</span> (0.00 B)\n",
       "</pre>\n"
      ],
      "text/plain": [
       "\u001b[1m Non-trainable params: \u001b[0m\u001b[38;5;34m0\u001b[0m (0.00 B)\n"
      ]
     },
     "metadata": {},
     "output_type": "display_data"
    }
   ],
   "source": [
    "#implemeting model\n",
    "import tensorflow as tf\n",
    "from tensorflow.keras.models import Model\n",
    "from tensorflow.keras.layers import Input, Embedding, Flatten, Dense, Concatenate, Dropout\n",
    "\n",
    "# Define the number of unique users and products\n",
    "num_users = X_train['UserId'].nunique()\n",
    "num_products = X_train['ProductId'].nunique()\n",
    "\n",
    "# Embedding size - hyperparameter\n",
    "embedding_size = 50\n",
    "\n",
    "# Input layers\n",
    "user_input = Input(shape=(1,), name='User_Input')\n",
    "product_input = Input(shape=(1,), name='Product_Input')\n",
    "\n",
    "# Embedding layers\n",
    "user_embedding = Embedding(input_dim=num_users, output_dim=embedding_size, name='User_Embedding')(user_input)\n",
    "product_embedding = Embedding(input_dim=num_products, output_dim=embedding_size, name='Product_Embedding')(product_input)\n",
    "\n",
    "# Flatten the embeddings\n",
    "user_vec = Flatten(name='Flatten_User')(user_embedding)\n",
    "product_vec = Flatten(name='Flatten_Product')(product_embedding)\n",
    "\n",
    "# Concatenate user and product vectors\n",
    "concat = Concatenate(name='Concatenate')([user_vec, product_vec])\n",
    "\n",
    "# Add dense layers (fully connected layers)\n",
    "dense_1 = Dense(128, activation='relu', name='Dense_Layer_1')(concat)\n",
    "dropout_1 = Dropout(0.3, name='Dropout_1')(dense_1)  # Dropout to prevent overfitting\n",
    "dense_2 = Dense(64, activation='relu', name='Dense_Layer_2')(dropout_1)\n",
    "\n",
    "# Output layer (rating prediction)\n",
    "output = Dense(1, activation='linear', name='Output')(dense_2)\n",
    "\n",
    "# Define the model\n",
    "model = Model(inputs=[user_input, product_input], outputs=output)\n",
    "\n",
    "# Compile the model\n",
    "model.compile(optimizer='adam', loss='mean_squared_error', metrics=['mean_absolute_error'])\n",
    "\n",
    "# Model summary\n",
    "model.summary()\n"
   ]
  },
  {
   "cell_type": "code",
   "execution_count": 16,
   "metadata": {},
   "outputs": [
    {
     "name": "stdout",
     "output_type": "stream",
     "text": [
      "Epoch 1/10\n",
      "\u001b[1m4214/4214\u001b[0m \u001b[32m━━━━━━━━━━━━━━━━━━━━\u001b[0m\u001b[37m\u001b[0m \u001b[1m1276s\u001b[0m 303ms/step - loss: 1.8993 - mean_absolute_error: 1.0778 - val_loss: 1.5337 - val_mean_absolute_error: 0.9647\n",
      "Epoch 2/10\n",
      "\u001b[1m4214/4214\u001b[0m \u001b[32m━━━━━━━━━━━━━━━━━━━━\u001b[0m\u001b[37m\u001b[0m \u001b[1m1133s\u001b[0m 269ms/step - loss: 1.0426 - mean_absolute_error: 0.7358 - val_loss: 1.7584 - val_mean_absolute_error: 0.9974\n",
      "Epoch 3/10\n",
      "\u001b[1m4214/4214\u001b[0m \u001b[32m━━━━━━━━━━━━━━━━━━━━\u001b[0m\u001b[37m\u001b[0m \u001b[1m1130s\u001b[0m 268ms/step - loss: 0.7408 - mean_absolute_error: 0.5624 - val_loss: 1.9321 - val_mean_absolute_error: 1.0595\n",
      "Epoch 4/10\n",
      "\u001b[1m4214/4214\u001b[0m \u001b[32m━━━━━━━━━━━━━━━━━━━━\u001b[0m\u001b[37m\u001b[0m \u001b[1m1133s\u001b[0m 269ms/step - loss: 0.5409 - mean_absolute_error: 0.4515 - val_loss: 1.9819 - val_mean_absolute_error: 1.0481\n",
      "Model training completed and the best model saved as 'best_model.h5'.\n"
     ]
    }
   ],
   "source": [
    "from tensorflow.keras.callbacks import EarlyStopping, ModelCheckpoint\n",
    "\n",
    "# Define input data for training\n",
    "train_user_input = X_train['UserId'].values\n",
    "train_product_input = X_train['ProductId'].values\n",
    "train_ratings = y_train.values\n",
    "\n",
    "val_user_input = X_test['UserId'].values\n",
    "val_product_input = X_test['ProductId'].values\n",
    "val_ratings = y_test.values\n",
    "\n",
    "# Define early stopping and model checkpoint\n",
    "early_stopping = EarlyStopping(monitor='val_loss', patience=3, restore_best_weights=True)\n",
    "model_checkpoint = ModelCheckpoint(\n",
    "    'best_model.keras', save_best_only=True, monitor='val_loss', mode='min'\n",
    ")\n",
    "\n",
    "# Train the model\n",
    "history = model.fit(\n",
    "    [train_user_input, train_product_input],\n",
    "    train_ratings,\n",
    "    validation_data=([val_user_input, val_product_input], val_ratings),\n",
    "    epochs=10,  # Adjust based on need\n",
    "    batch_size=256,\n",
    "    callbacks=[early_stopping, model_checkpoint],\n",
    "    verbose=1\n",
    ")\n",
    "\n",
    "# Save training history for visualization\n",
    "import pickle\n",
    "with open('training_history.pkl', 'wb') as f:\n",
    "    pickle.dump(history.history, f)\n",
    "\n",
    "print(\"Model training completed and the best model saved as 'best_model.h5'.\")\n"
   ]
  },
  {
   "cell_type": "code",
   "execution_count": 17,
   "metadata": {},
   "outputs": [
    {
     "name": "stdout",
     "output_type": "stream",
     "text": [
      "\u001b[1m8427/8427\u001b[0m \u001b[32m━━━━━━━━━━━━━━━━━━━━\u001b[0m\u001b[37m\u001b[0m \u001b[1m36s\u001b[0m 4ms/step - loss: 1.5453 - mean_absolute_error: 0.9678\n",
      "Test Loss: 1.5337\n",
      "Test Mean Absolute Error: 0.9647\n"
     ]
    }
   ],
   "source": [
    "# Load the best model saved during training\n",
    "best_model = tf.keras.models.load_model('best_model.keras')\n",
    "\n",
    "# Evaluate the model on the test set\n",
    "test_loss, test_mae = best_model.evaluate([val_user_input, val_product_input], val_ratings, verbose=1)\n",
    "\n",
    "print(f\"Test Loss: {test_loss:.4f}\")\n",
    "print(f\"Test Mean Absolute Error: {test_mae:.4f}\")"
   ]
  },
  {
   "cell_type": "code",
   "execution_count": 18,
   "metadata": {},
   "outputs": [
    {
     "name": "stdout",
     "output_type": "stream",
     "text": [
      "\u001b[1m32/32\u001b[0m \u001b[32m━━━━━━━━━━━━━━━━━━━━\u001b[0m\u001b[37m\u001b[0m \u001b[1m1s\u001b[0m 26ms/step\n",
      "   ProductId  Predicted_Rating ProductType  \\\n",
      "0       6680            4.2175  Shower Gel   \n",
      "1       6680            4.2175  Shower Gel   \n",
      "2       6680            4.2175  Shower Gel   \n",
      "3       6680            4.2175  Shower Gel   \n",
      "4       6680            4.2175  Shower Gel   \n",
      "5       6680            4.2175  Shower Gel   \n",
      "6       6680            4.2175  Shower Gel   \n",
      "7       6680            4.2175  Shower Gel   \n",
      "8       6680            4.2175  Shower Gel   \n",
      "9       6680            4.2175  Shower Gel   \n",
      "\n",
      "                                                 URL  \n",
      "0  https://www.amazon.in/Cleansense-Gentle-Pamper...  \n",
      "1  https://www.amazon.in/Cleansense-Gentle-Pamper...  \n",
      "2  https://www.amazon.in/Cleansense-Gentle-Pamper...  \n",
      "3  https://www.amazon.in/Cleansense-Gentle-Pamper...  \n",
      "4  https://www.amazon.in/Cleansense-Gentle-Pamper...  \n",
      "5  https://www.amazon.in/Cleansense-Gentle-Pamper...  \n",
      "6  https://www.amazon.in/Cleansense-Gentle-Pamper...  \n",
      "7  https://www.amazon.in/Cleansense-Gentle-Pamper...  \n",
      "8  https://www.amazon.in/Cleansense-Gentle-Pamper...  \n",
      "9  https://www.amazon.in/Cleansense-Gentle-Pamper...  \n",
      "Model input shapes:\n",
      "(None, 1)\n",
      "(None, 1)\n",
      "\u001b[1m32/32\u001b[0m \u001b[32m━━━━━━━━━━━━━━━━━━━━\u001b[0m\u001b[37m\u001b[0m \u001b[1m2s\u001b[0m 14ms/step - loss: 1.4895 - mean_absolute_error: 0.9519\n",
      "Simulated Unseen Data Loss: 1.4155\n",
      "Simulated Unseen Data Mean Absolute Error: 0.9251\n",
      "\u001b[1m32/32\u001b[0m \u001b[32m━━━━━━━━━━━━━━━━━━━━\u001b[0m\u001b[37m\u001b[0m \u001b[1m1s\u001b[0m 18ms/step\n",
      "Predicted Ratings (first 10):\n",
      "[[4.2175   ]\n",
      " [4.4848757]\n",
      " [4.131733 ]\n",
      " [3.6929665]\n",
      " [4.269474 ]\n",
      " [4.1169763]\n",
      " [4.15393  ]\n",
      " [4.3356895]\n",
      " [4.031586 ]\n",
      " [4.076449 ]]\n"
     ]
    }
   ],
   "source": [
    "#unseen data making and testing\n",
    "import numpy as np\n",
    "\n",
    "# Randomly sample a subset from the test set as unseen data\n",
    "unseen_indices = np.random.choice(X_test.index, size=1000, replace=False)  # Adjust size as needed\n",
    "unseen_sample = X_test.loc[unseen_indices]\n",
    "unseen_ratings = y_test.loc[unseen_indices]  # Corresponding ground truth ratings\n",
    "\n",
    "# Prepare input for testing\n",
    "unseen_user_input = unseen_sample['UserId'].values\n",
    "unseen_product_input = unseen_sample['ProductId'].values\n",
    "\n",
    "predicted_ratings = best_model.predict([unseen_user_input, unseen_product_input])\n",
    "\n",
    "# Map predictions back to ProductType and URL using the original dataset\n",
    "unseen_sample['Predicted_Rating'] = predicted_ratings\n",
    "\n",
    "# Merge the unseen sample with the original dataset to get ProductType and URL\n",
    "unseen_sample_with_details = unseen_sample.merge(\n",
    "    data[['ProductId', 'ProductType', 'URL']],\n",
    "    on='ProductId',\n",
    "    how='left'\n",
    ")\n",
    "\n",
    "# Display the first few rows with predicted ratings, ProductType, and URL\n",
    "print(unseen_sample_with_details[['ProductId', 'Predicted_Rating', 'ProductType', 'URL']].head(10))\n",
    "\n",
    "print(\"Model input shapes:\")\n",
    "for input_shape in best_model.input_shape:\n",
    "    print(input_shape)\n",
    "\n",
    "unseen_user_input = tf.convert_to_tensor(unseen_user_input, dtype=tf.int32)\n",
    "unseen_product_input = tf.convert_to_tensor(unseen_product_input, dtype=tf.int32)\n",
    "unseen_ratings = tf.convert_to_tensor(unseen_ratings, dtype=tf.float32)\n",
    "\n",
    "# Evaluate performance on the unseen sample\n",
    "unseen_loss, unseen_mae = best_model.evaluate(\n",
    "    [unseen_user_input, unseen_product_input], unseen_ratings, verbose=1\n",
    ")\n",
    "\n",
    "print(f\"Simulated Unseen Data Loss: {unseen_loss:.4f}\")\n",
    "print(f\"Simulated Unseen Data Mean Absolute Error: {unseen_mae:.4f}\")\n",
    "\n",
    "# Predict ratings for the unseen sample\n",
    "predicted_ratings = best_model.predict([unseen_user_input, unseen_product_input])\n",
    "\n",
    "print(\"Predicted Ratings (first 10):\")\n",
    "print(predicted_ratings[:10])"
   ]
  },
  {
   "cell_type": "code",
   "execution_count": 20,
   "metadata": {},
   "outputs": [
    {
     "name": "stdout",
     "output_type": "stream",
     "text": [
      "Model input shapes:\n",
      "(None, 1)\n",
      "(None, 1)\n",
      "Shape of target_user_input: (23684, 1)\n",
      "Shape of all_product_input: (23684, 1)\n",
      "Top 10 Recommendations for User ID: 654719\n",
      "   ProductId  Predicted_Rating          ProductType  \\\n",
      "0      20431          4.982078          Conditioner   \n",
      "1      23619          4.968677           Bath Salts   \n",
      "2       8526          4.964384           Shower Gel   \n",
      "3       8287          4.955808           Shower Gel   \n",
      "4      23128          4.955686             Lipstick   \n",
      "5       7092          4.951395           Shower Gel   \n",
      "6      21688          4.951287  Cream & Moisturizer   \n",
      "7        436          4.950228          Nail Polish   \n",
      "8       2262          4.948620          Nail Polish   \n",
      "9       8234          4.943204           Shower Gel   \n",
      "\n",
      "                                                 URL  \n",
      "0  https://www.amazon.in/Schwarzkopf-Professional...  \n",
      "1  https://www.amazon.in/gp/slredirect/picassoRed...  \n",
      "2  https://www.amazon.in/mCaffeine-Exfoliating-En...  \n",
      "3  https://www.amazon.in/WOW-Wild-Aqua-Foaming-Bo...  \n",
      "4  https://www.amazon.in/SWISS-BEAUTY-Swiss-Beaut...  \n",
      "5  https://www.amazon.in/Beardo-Tan-Bodywash-Men-...  \n",
      "6  https://www.amazon.in/sspa/click?ie=UTF8&spc=M...  \n",
      "7  https://www.amazon.in/Plum-Affair-Polish-Formu...  \n",
      "8  https://www.amazon.in/sspa/click?ie=UTF8&spc=M...  \n",
      "9  https://www.amazon.in/mCaffeine-Exfoliating-En...  \n"
     ]
    }
   ],
   "source": [
    "#predictiing for a specific user\n",
    "import numpy as np\n",
    "import pandas as pd\n",
    "import tensorflow as tf\n",
    "\n",
    "# Get unique user IDs and product IDs from the dataset\n",
    "unique_users = X_test['UserId'].unique()\n",
    "unique_products = X_test['ProductId'].unique()\n",
    "\n",
    "# Example: Generate recommendations for a specific user\n",
    "target_user_id = unique_users[5]\n",
    "\n",
    "# Debugging: Print the expected input shapes of the model\n",
    "print(\"Model input shapes:\")\n",
    "for input_shape in best_model.input_shape:\n",
    "    print(input_shape)\n",
    "\n",
    "# Prepare inputs for predictions\n",
    "target_user_input = tf.convert_to_tensor(np.array([target_user_id] * len(unique_products)).reshape(-1, 1), dtype=tf.int32)\n",
    "all_product_input = tf.convert_to_tensor(unique_products.reshape(-1, 1), dtype=tf.int32)\n",
    "\n",
    "# Debugging: Verify shapes of inputs\n",
    "print(f\"Shape of target_user_input: {target_user_input.shape}\")\n",
    "print(f\"Shape of all_product_input: {all_product_input.shape}\")\n",
    "\n",
    "# Perform predictions\n",
    "predicted_ratings = best_model.call([target_user_input, all_product_input])\n",
    "\n",
    "# Convert predictions to a NumPy array\n",
    "predicted_ratings = predicted_ratings.numpy().flatten()\n",
    "\n",
    "# Create a DataFrame to display the top recommendations\n",
    "recommendations = pd.DataFrame({\n",
    "    'ProductId': unique_products,\n",
    "    'Predicted_Rating': predicted_ratings\n",
    "}).sort_values(by='Predicted_Rating', ascending=False)\n",
    "\n",
    "# Merge with product details (e.g., ProductType and URL)\n",
    "recommendations = recommendations.merge(\n",
    "    data[['ProductId', 'ProductType', 'URL']].drop_duplicates(),\n",
    "    on='ProductId',\n",
    "    how='left'\n",
    ")\n",
    "\n",
    "# Display the top 10 recommendations for the target user\n",
    "print(\"Top 10 Recommendations for User ID:\", target_user_id)\n",
    "print(recommendations[['ProductId', 'Predicted_Rating', 'ProductType', 'URL']].head(10))"
   ]
  },
  {
   "cell_type": "code",
   "execution_count": 21,
   "metadata": {},
   "outputs": [
    {
     "name": "stdout",
     "output_type": "stream",
     "text": [
      "Epoch 1/10\n",
      "\u001b[1m4214/4214\u001b[0m \u001b[32m━━━━━━━━━━━━━━━━━━━━\u001b[0m\u001b[37m\u001b[0m \u001b[1m1103s\u001b[0m 260ms/step - loss: 1.0299 - mean_absolute_error: 0.7285 - val_loss: 1.7443 - val_mean_absolute_error: 0.9870 - learning_rate: 0.0010\n",
      "Epoch 2/10\n",
      "\u001b[1m4214/4214\u001b[0m \u001b[32m━━━━━━━━━━━━━━━━━━━━\u001b[0m\u001b[37m\u001b[0m \u001b[1m1087s\u001b[0m 258ms/step - loss: 0.7222 - mean_absolute_error: 0.5617 - val_loss: 1.7474 - val_mean_absolute_error: 0.9871 - learning_rate: 0.0010\n",
      "Epoch 3/10\n",
      "\u001b[1m4214/4214\u001b[0m \u001b[32m━━━━━━━━━━━━━━━━━━━━\u001b[0m\u001b[37m\u001b[0m \u001b[1m1095s\u001b[0m 260ms/step - loss: 0.5438 - mean_absolute_error: 0.4532 - val_loss: 1.8520 - val_mean_absolute_error: 1.0306 - learning_rate: 0.0010\n",
      "Epoch 4/10\n",
      "\u001b[1m4214/4214\u001b[0m \u001b[32m━━━━━━━━━━━━━━━━━━━━\u001b[0m\u001b[37m\u001b[0m \u001b[1m1075s\u001b[0m 255ms/step - loss: 0.4319 - mean_absolute_error: 0.3875 - val_loss: 1.9265 - val_mean_absolute_error: 1.0456 - learning_rate: 0.0010\n",
      "Fine-tuned model saved as 'fine_tuned_recommendation_model.keras'.\n",
      "Fine-tuned training history saved as 'fine_tuned_history.pkl'.\n"
     ]
    }
   ],
   "source": [
    "from tensorflow.keras.optimizers import Adam\n",
    "from tensorflow.keras.callbacks import LearningRateScheduler, EarlyStopping\n",
    "import pickle\n",
    "\n",
    "# Modify the optimizer with a lower learning rate\n",
    "optimizer = Adam(learning_rate=0.001)\n",
    "\n",
    "# Recompile the model\n",
    "best_model.compile(optimizer=optimizer, loss='mean_squared_error', metrics=['mean_absolute_error'])\n",
    "\n",
    "# Define a learning rate scheduler\n",
    "def lr_scheduler(epoch, lr):\n",
    "    if epoch > 5:\n",
    "        return lr * 0.9\n",
    "    return lr\n",
    "\n",
    "lr_callback = LearningRateScheduler(lr_scheduler)\n",
    "\n",
    "# Add Early Stopping\n",
    "early_stopping = EarlyStopping(monitor='val_loss', patience=3, restore_best_weights=True)\n",
    "\n",
    "# Retrain the model\n",
    "history_fine_tuned = best_model.fit(\n",
    "    [X_train['UserId'], X_train['ProductId']],\n",
    "    y_train,\n",
    "    validation_data=([X_test['UserId'], X_test['ProductId']], y_test),\n",
    "    epochs=10,\n",
    "    batch_size=256,\n",
    "    callbacks=[lr_callback, early_stopping],\n",
    "    verbose=1\n",
    ")\n",
    "\n",
    "# Save the fine-tuned model in Keras format\n",
    "best_model.save('fine_tuned_recommendation_model.keras')\n",
    "print(\"Fine-tuned model saved as 'fine_tuned_recommendation_model.keras'.\")\n",
    "\n",
    "# Save the training history to a pickle file\n",
    "with open('fine_tuned_history.pkl', 'wb') as file:\n",
    "    pickle.dump(history_fine_tuned.history, file)\n",
    "\n",
    "print(\"Fine-tuned training history saved as 'fine_tuned_history.pkl'.\")"
   ]
  },
  {
   "cell_type": "code",
   "execution_count": 22,
   "metadata": {},
   "outputs": [
    {
     "name": "stdout",
     "output_type": "stream",
     "text": [
      "Fine-tuned model loaded successfully.\n",
      "\u001b[1m745/745\u001b[0m \u001b[32m━━━━━━━━━━━━━━━━━━━━\u001b[0m\u001b[37m\u001b[0m \u001b[1m2s\u001b[0m 2ms/step\n",
      "Top 10 Recommendations for User ID: 299701\n",
      "   ProductId  Predicted_Rating            ProductType  \\\n",
      "0      23728          4.954453               Hair Oil   \n",
      "1      23791          4.789058          Talcum Powder   \n",
      "2      14435          4.780876              Sunscreen   \n",
      "3      23619          4.760258             Bath Salts   \n",
      "4       2969          4.716228            Nail Polish   \n",
      "5       8011          4.711836             Shower Gel   \n",
      "6      23128          4.697781               Lipstick   \n",
      "7      11776          4.689874  Face Wash & Cleansers   \n",
      "8      22023          4.688234     Kits & Accessories   \n",
      "9       1152          4.677474            Nail Polish   \n",
      "\n",
      "                                                 URL  \n",
      "0  https://www.amazon.in/gp/slredirect/picassoRed...  \n",
      "1  https://www.amazon.in/gp/slredirect/picassoRed...  \n",
      "2  https://www.amazon.in/sspa/click?ie=UTF8&spc=M...  \n",
      "3  https://www.amazon.in/gp/slredirect/picassoRed...  \n",
      "4  https://www.amazon.in/sspa/click?ie=UTF8&spc=M...  \n",
      "5  https://www.amazon.in/sspa/click?ie=UTF8&spc=M...  \n",
      "6  https://www.amazon.in/SWISS-BEAUTY-Swiss-Beaut...  \n",
      "7  https://www.amazon.in/Garnier-Bright-Double-Ch...  \n",
      "8  https://www.amazon.in/Meetzone-Cleaning-Silico...  \n",
      "9  https://www.amazon.in/sspa/click?ie=UTF8&spc=M...  \n"
     ]
    }
   ],
   "source": [
    "import numpy as np\n",
    "import pandas as pd\n",
    "from tensorflow.keras.models import load_model\n",
    "\n",
    "# Load the fine-tuned model\n",
    "fine_tuned_model = load_model('fine_tuned_recommendation_model.keras')\n",
    "print(\"Fine-tuned model loaded successfully.\")\n",
    "\n",
    "# Example: Generate recommendations for a specific user\n",
    "user_id = 299701  # Replace with a specific user ID\n",
    "\n",
    "# Get all unique products\n",
    "unique_products = data['ProductId'].unique()\n",
    "\n",
    "# Prepare input data\n",
    "user_input = np.array([user_id] * len(unique_products)).reshape(-1, 1)\n",
    "product_input = unique_products.reshape(-1, 1)\n",
    "\n",
    "# Generate predictions\n",
    "predicted_ratings = fine_tuned_model.predict([user_input, product_input])\n",
    "\n",
    "# Create a DataFrame with predicted ratings\n",
    "recommendations = pd.DataFrame({\n",
    "    'ProductId': unique_products,\n",
    "    'Predicted_Rating': predicted_ratings.flatten()\n",
    "}).sort_values(by='Predicted_Rating', ascending=False)\n",
    "\n",
    "# Merge with product details\n",
    "recommendations = recommendations.merge(\n",
    "    data[['ProductId', 'ProductType', 'URL']].drop_duplicates(),\n",
    "    on='ProductId',\n",
    "    how='left'\n",
    ")\n",
    "\n",
    "# Display the top 10 recommendations for the user\n",
    "print(f\"Top 10 Recommendations for User ID: {user_id}\")\n",
    "print(recommendations[['ProductId', 'Predicted_Rating', 'ProductType', 'URL']].head(10))\n"
   ]
  },
  {
   "cell_type": "code",
   "execution_count": 24,
   "metadata": {},
   "outputs": [
    {
     "data": {
      "image/png": "[encoded data removed]",
      "text/plain": [
       "<Figure size 640x480 with 1 Axes>"
      ]
     },
     "metadata": {},
     "output_type": "display_data"
    }
   ],
   "source": [
    "import matplotlib.pyplot as plt\n",
    "\n",
    "# Plot training and validation loss\n",
    "def plot_training_history(history, title=\"Training and Validation Loss\"):\n",
    "    plt.plot(history.history['loss'], label='Training Loss')\n",
    "    plt.plot(history.history['val_loss'], label='Validation Loss')\n",
    "    plt.xlabel('Epoch')\n",
    "    plt.ylabel('Loss')\n",
    "    plt.legend()\n",
    "    plt.title(title)\n",
    "    plt.show()\n",
    "\n",
    "# Visualize the fine-tuned model's training history\n",
    "plot_training_history(history_fine_tuned)\n"
   ]
  },
  {
   "cell_type": "code",
   "execution_count": 25,
   "metadata": {},
   "outputs": [
    {
     "data": {
      "image/png": "[encoded data removed]",
      "text/plain": [
       "<Figure size 640x480 with 1 Axes>"
      ]
     },
     "metadata": {},
     "output_type": "display_data"
    }
   ],
   "source": [
    "import pickle\n",
    "import matplotlib.pyplot as plt\n",
    "\n",
    "# Load the training history from the .pkl file\n",
    "with open('fine_tuned_history.pkl', 'rb') as file:\n",
    "    history_fine_tuned = pickle.load(file)\n",
    "\n",
    "# Plot training and validation loss\n",
    "def plot_training_history(history, title=\"Training and Validation Loss\"):\n",
    "    plt.plot(history['loss'], label='Training Loss')\n",
    "    plt.plot(history['val_loss'], label='Validation Loss')\n",
    "    plt.xlabel('Epochs')\n",
    "    plt.ylabel('Loss')\n",
    "    plt.legend()\n",
    "    plt.title(title)\n",
    "    plt.show()\n",
    "\n",
    "# Call the function to plot the training history\n",
    "plot_training_history(history_fine_tuned)\n"
   ]
  }
 ],
 "metadata": {
  "kernelspec": {
   "display_name": ".venv",
   "language": "python",
   "name": "python3"
  },
  "language_info": {
   "codemirror_mode": {
    "name": "ipython",
    "version": 3
   },
   "file_extension": ".py",
   "mimetype": "text/x-python",
   "name": "python",
   "nbconvert_exporter": "python",
   "pygments_lexer": "ipython3",
   "version": "3.10.11"
  }
 },
 "nbformat": 4,
 "nbformat_minor": 2
}
